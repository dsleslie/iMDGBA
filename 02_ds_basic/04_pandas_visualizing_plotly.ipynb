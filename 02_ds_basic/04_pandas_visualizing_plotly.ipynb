{
 "cells": [
  {
   "cell_type": "code",
   "execution_count": 4,
   "id": "d887b528-3b1c-4602-bfa4-41bbcb5e0dd9",
   "metadata": {},
   "outputs": [],
   "source": [
    "import pandas as pd\n",
    "from pandas import DataFrame\n",
    "import numpy as np\n",
    "import seaborn as sns\n",
    "import matplotlib.pyplot as plt\n",
    "#%matplotlib inline\n",
    "import yfinance as yf\n",
    "# pip install yfinance --upgrade --no-cache-dir <- 이거 bash terminal 에서 실행\n",
    "import plotly\n",
    "import plotly.graph_objects as go #matplotlib 와 개념 유사\n",
    "import plotly.express as px # seaborn과 개념적으로 유사\n",
    "\n",
    "# 한글 폰트 실행\n",
    "from matplotlib import rcParams\n",
    "from matplotlib import font_manager,rc\n",
    "rcParams['axes.unicode_minus']=False\n",
    "plt.rcParams['font.family']='Malgun Gothic'\n",
    "font_name=font_manager.FontProperties(fname='c:/Windows/Fonts/malgun.ttf').get_name()\n",
    "rc('font',family=font_name)"
   ]
  },
  {
   "cell_type": "markdown",
   "id": "5f885ed0-c046-4230-9165-d55028d518d5",
   "metadata": {},
   "source": [
    "# , index_col = 0 | parse_dates = ['컬럼명']\n",
    "## 시계열 데이터 불러올 때, 날짜 인덱스로 불러올 때\n",
    "- , index_col = 0 : 날짜 데이터를 인덱스로 만든다. (type은 index)\n",
    "- , parse_dates = ['컬럼명'] : 지정한 컬럼을 인덱스가 되면서 datetime으로 바뀜. (type은 range index)\n",
    "- index와 rangeindex 차이 ?\n",
    "> 시계열 자료를 다룰 때는, 기본적으로 날짜 칼럼이 datetime 형태여야 함 !"
   ]
  },
  {
   "cell_type": "code",
   "execution_count": 5,
   "id": "f9c38791-59f7-4bf0-b7f1-07acdd1b2cfb",
   "metadata": {},
   "outputs": [
    {
     "name": "stderr",
     "output_type": "stream",
     "text": [
      "C:\\iMDGBA\\venv\\Lib\\site-packages\\openpyxl\\styles\\stylesheet.py:237: UserWarning: Workbook contains no default style, apply openpyxl's default\n",
      "  warn(\"Workbook contains no default style, apply openpyxl's default\")\n"
     ]
    },
    {
     "data": {
      "text/html": [
       "<div>\n",
       "<style scoped>\n",
       "    .dataframe tbody tr th:only-of-type {\n",
       "        vertical-align: middle;\n",
       "    }\n",
       "\n",
       "    .dataframe tbody tr th {\n",
       "        vertical-align: top;\n",
       "    }\n",
       "\n",
       "    .dataframe thead th {\n",
       "        text-align: right;\n",
       "    }\n",
       "</style>\n",
       "<table border=\"1\" class=\"dataframe\">\n",
       "  <thead>\n",
       "    <tr style=\"text-align: right;\">\n",
       "      <th></th>\n",
       "      <th>일자</th>\n",
       "      <th>종가</th>\n",
       "      <th>대비</th>\n",
       "      <th>등락률</th>\n",
       "      <th>시가</th>\n",
       "      <th>고가</th>\n",
       "      <th>저가</th>\n",
       "      <th>거래량</th>\n",
       "      <th>거래대금</th>\n",
       "      <th>시가총액</th>\n",
       "      <th>상장주식수</th>\n",
       "    </tr>\n",
       "  </thead>\n",
       "  <tbody>\n",
       "    <tr>\n",
       "      <th>0</th>\n",
       "      <td>2021/08/13</td>\n",
       "      <td>74400</td>\n",
       "      <td>-2600</td>\n",
       "      <td>-3.38</td>\n",
       "      <td>75800</td>\n",
       "      <td>76000</td>\n",
       "      <td>74100</td>\n",
       "      <td>61270643</td>\n",
       "      <td>4575267536355</td>\n",
       "      <td>444151821720000</td>\n",
       "      <td>5969782550</td>\n",
       "    </tr>\n",
       "    <tr>\n",
       "      <th>1</th>\n",
       "      <td>2021/08/12</td>\n",
       "      <td>77000</td>\n",
       "      <td>-1500</td>\n",
       "      <td>-1.91</td>\n",
       "      <td>77100</td>\n",
       "      <td>78200</td>\n",
       "      <td>76900</td>\n",
       "      <td>42365223</td>\n",
       "      <td>3276635421700</td>\n",
       "      <td>459673256350000</td>\n",
       "      <td>5969782550</td>\n",
       "    </tr>\n",
       "    <tr>\n",
       "      <th>2</th>\n",
       "      <td>2021/08/11</td>\n",
       "      <td>78500</td>\n",
       "      <td>-1700</td>\n",
       "      <td>-2.12</td>\n",
       "      <td>79600</td>\n",
       "      <td>79800</td>\n",
       "      <td>78500</td>\n",
       "      <td>30241137</td>\n",
       "      <td>2389977254924</td>\n",
       "      <td>468627930175000</td>\n",
       "      <td>5969782550</td>\n",
       "    </tr>\n",
       "    <tr>\n",
       "      <th>3</th>\n",
       "      <td>2021/08/10</td>\n",
       "      <td>80200</td>\n",
       "      <td>-1300</td>\n",
       "      <td>-1.60</td>\n",
       "      <td>82300</td>\n",
       "      <td>82400</td>\n",
       "      <td>80100</td>\n",
       "      <td>20362639</td>\n",
       "      <td>1643107615500</td>\n",
       "      <td>478776560510000</td>\n",
       "      <td>5969782550</td>\n",
       "    </tr>\n",
       "    <tr>\n",
       "      <th>4</th>\n",
       "      <td>2021/08/09</td>\n",
       "      <td>81500</td>\n",
       "      <td>0</td>\n",
       "      <td>0.00</td>\n",
       "      <td>81500</td>\n",
       "      <td>82300</td>\n",
       "      <td>80900</td>\n",
       "      <td>15522581</td>\n",
       "      <td>1267668377900</td>\n",
       "      <td>486537277825000</td>\n",
       "      <td>5969782550</td>\n",
       "    </tr>\n",
       "  </tbody>\n",
       "</table>\n",
       "</div>"
      ],
      "text/plain": [
       "           일자     종가    대비   등락률     시가     고가     저가       거래량  \\\n",
       "0  2021/08/13  74400 -2600 -3.38  75800  76000  74100  61270643   \n",
       "1  2021/08/12  77000 -1500 -1.91  77100  78200  76900  42365223   \n",
       "2  2021/08/11  78500 -1700 -2.12  79600  79800  78500  30241137   \n",
       "3  2021/08/10  80200 -1300 -1.60  82300  82400  80100  20362639   \n",
       "4  2021/08/09  81500     0  0.00  81500  82300  80900  15522581   \n",
       "\n",
       "            거래대금             시가총액       상장주식수  \n",
       "0  4575267536355  444151821720000  5969782550  \n",
       "1  3276635421700  459673256350000  5969782550  \n",
       "2  2389977254924  468627930175000  5969782550  \n",
       "3  1643107615500  478776560510000  5969782550  \n",
       "4  1267668377900  486537277825000  5969782550  "
      ]
     },
     "execution_count": 5,
     "metadata": {},
     "output_type": "execute_result"
    }
   ],
   "source": [
    "df=pd.read_excel(\"c:/Archiving/IMDGB/step02_ds_basic/dataset/ss_ex_1.xlsx\")\n",
    "df.head()"
   ]
  },
  {
   "cell_type": "code",
   "execution_count": 6,
   "id": "0e7b9134-057c-4d0b-9572-e79c5349de9d",
   "metadata": {},
   "outputs": [
    {
     "name": "stdout",
     "output_type": "stream",
     "text": [
      "<class 'pandas.core.frame.DataFrame'>\n",
      "RangeIndex: 127 entries, 0 to 126\n",
      "Data columns (total 11 columns):\n",
      " #   Column  Non-Null Count  Dtype  \n",
      "---  ------  --------------  -----  \n",
      " 0   일자      127 non-null    object \n",
      " 1   종가      127 non-null    int64  \n",
      " 2   대비      127 non-null    int64  \n",
      " 3   등락률     127 non-null    float64\n",
      " 4   시가      127 non-null    int64  \n",
      " 5   고가      127 non-null    int64  \n",
      " 6   저가      127 non-null    int64  \n",
      " 7   거래량     127 non-null    int64  \n",
      " 8   거래대금    127 non-null    int64  \n",
      " 9   시가총액    127 non-null    int64  \n",
      " 10  상장주식수   127 non-null    int64  \n",
      "dtypes: float64(1), int64(9), object(1)\n",
      "memory usage: 11.0+ KB\n"
     ]
    }
   ],
   "source": [
    "df.info()"
   ]
  },
  {
   "cell_type": "code",
   "execution_count": 7,
   "id": "d4e9a4ed-7261-4d1a-925a-e77c3034aee7",
   "metadata": {},
   "outputs": [],
   "source": [
    "# index_col = 0"
   ]
  },
  {
   "cell_type": "code",
   "execution_count": 8,
   "id": "e17ba0b5-25b5-4cf3-84ae-8e5c7f1a2599",
   "metadata": {},
   "outputs": [
    {
     "name": "stderr",
     "output_type": "stream",
     "text": [
      "C:\\iMDGBA\\venv\\Lib\\site-packages\\openpyxl\\styles\\stylesheet.py:237: UserWarning: Workbook contains no default style, apply openpyxl's default\n",
      "  warn(\"Workbook contains no default style, apply openpyxl's default\")\n"
     ]
    },
    {
     "data": {
      "text/html": [
       "<div>\n",
       "<style scoped>\n",
       "    .dataframe tbody tr th:only-of-type {\n",
       "        vertical-align: middle;\n",
       "    }\n",
       "\n",
       "    .dataframe tbody tr th {\n",
       "        vertical-align: top;\n",
       "    }\n",
       "\n",
       "    .dataframe thead th {\n",
       "        text-align: right;\n",
       "    }\n",
       "</style>\n",
       "<table border=\"1\" class=\"dataframe\">\n",
       "  <thead>\n",
       "    <tr style=\"text-align: right;\">\n",
       "      <th></th>\n",
       "      <th>종가</th>\n",
       "      <th>대비</th>\n",
       "      <th>등락률</th>\n",
       "      <th>시가</th>\n",
       "      <th>고가</th>\n",
       "      <th>저가</th>\n",
       "      <th>거래량</th>\n",
       "      <th>거래대금</th>\n",
       "      <th>시가총액</th>\n",
       "      <th>상장주식수</th>\n",
       "    </tr>\n",
       "    <tr>\n",
       "      <th>일자</th>\n",
       "      <th></th>\n",
       "      <th></th>\n",
       "      <th></th>\n",
       "      <th></th>\n",
       "      <th></th>\n",
       "      <th></th>\n",
       "      <th></th>\n",
       "      <th></th>\n",
       "      <th></th>\n",
       "      <th></th>\n",
       "    </tr>\n",
       "  </thead>\n",
       "  <tbody>\n",
       "    <tr>\n",
       "      <th>2021/08/13</th>\n",
       "      <td>74400</td>\n",
       "      <td>-2600</td>\n",
       "      <td>-3.38</td>\n",
       "      <td>75800</td>\n",
       "      <td>76000</td>\n",
       "      <td>74100</td>\n",
       "      <td>61270643</td>\n",
       "      <td>4575267536355</td>\n",
       "      <td>444151821720000</td>\n",
       "      <td>5969782550</td>\n",
       "    </tr>\n",
       "    <tr>\n",
       "      <th>2021/08/12</th>\n",
       "      <td>77000</td>\n",
       "      <td>-1500</td>\n",
       "      <td>-1.91</td>\n",
       "      <td>77100</td>\n",
       "      <td>78200</td>\n",
       "      <td>76900</td>\n",
       "      <td>42365223</td>\n",
       "      <td>3276635421700</td>\n",
       "      <td>459673256350000</td>\n",
       "      <td>5969782550</td>\n",
       "    </tr>\n",
       "    <tr>\n",
       "      <th>2021/08/11</th>\n",
       "      <td>78500</td>\n",
       "      <td>-1700</td>\n",
       "      <td>-2.12</td>\n",
       "      <td>79600</td>\n",
       "      <td>79800</td>\n",
       "      <td>78500</td>\n",
       "      <td>30241137</td>\n",
       "      <td>2389977254924</td>\n",
       "      <td>468627930175000</td>\n",
       "      <td>5969782550</td>\n",
       "    </tr>\n",
       "    <tr>\n",
       "      <th>2021/08/10</th>\n",
       "      <td>80200</td>\n",
       "      <td>-1300</td>\n",
       "      <td>-1.60</td>\n",
       "      <td>82300</td>\n",
       "      <td>82400</td>\n",
       "      <td>80100</td>\n",
       "      <td>20362639</td>\n",
       "      <td>1643107615500</td>\n",
       "      <td>478776560510000</td>\n",
       "      <td>5969782550</td>\n",
       "    </tr>\n",
       "    <tr>\n",
       "      <th>2021/08/09</th>\n",
       "      <td>81500</td>\n",
       "      <td>0</td>\n",
       "      <td>0.00</td>\n",
       "      <td>81500</td>\n",
       "      <td>82300</td>\n",
       "      <td>80900</td>\n",
       "      <td>15522581</td>\n",
       "      <td>1267668377900</td>\n",
       "      <td>486537277825000</td>\n",
       "      <td>5969782550</td>\n",
       "    </tr>\n",
       "  </tbody>\n",
       "</table>\n",
       "</div>"
      ],
      "text/plain": [
       "               종가    대비   등락률     시가     고가     저가       거래량           거래대금  \\\n",
       "일자                                                                            \n",
       "2021/08/13  74400 -2600 -3.38  75800  76000  74100  61270643  4575267536355   \n",
       "2021/08/12  77000 -1500 -1.91  77100  78200  76900  42365223  3276635421700   \n",
       "2021/08/11  78500 -1700 -2.12  79600  79800  78500  30241137  2389977254924   \n",
       "2021/08/10  80200 -1300 -1.60  82300  82400  80100  20362639  1643107615500   \n",
       "2021/08/09  81500     0  0.00  81500  82300  80900  15522581  1267668377900   \n",
       "\n",
       "                       시가총액       상장주식수  \n",
       "일자                                       \n",
       "2021/08/13  444151821720000  5969782550  \n",
       "2021/08/12  459673256350000  5969782550  \n",
       "2021/08/11  468627930175000  5969782550  \n",
       "2021/08/10  478776560510000  5969782550  \n",
       "2021/08/09  486537277825000  5969782550  "
      ]
     },
     "execution_count": 8,
     "metadata": {},
     "output_type": "execute_result"
    }
   ],
   "source": [
    "df1 = pd.read_excel(\"c:/Archiving/IMDGB/step02_ds_basic/dataset/ss_ex_1.xlsx\", index_col=0 )\n",
    "df1.head()"
   ]
  },
  {
   "cell_type": "code",
   "execution_count": 9,
   "id": "2a34f188-3d42-4c3b-a665-34788b50bc4f",
   "metadata": {},
   "outputs": [
    {
     "name": "stdout",
     "output_type": "stream",
     "text": [
      "<class 'pandas.core.frame.DataFrame'>\n",
      "Index: 127 entries, 2021/08/13 to 2021/02/15\n",
      "Data columns (total 10 columns):\n",
      " #   Column  Non-Null Count  Dtype  \n",
      "---  ------  --------------  -----  \n",
      " 0   종가      127 non-null    int64  \n",
      " 1   대비      127 non-null    int64  \n",
      " 2   등락률     127 non-null    float64\n",
      " 3   시가      127 non-null    int64  \n",
      " 4   고가      127 non-null    int64  \n",
      " 5   저가      127 non-null    int64  \n",
      " 6   거래량     127 non-null    int64  \n",
      " 7   거래대금    127 non-null    int64  \n",
      " 8   시가총액    127 non-null    int64  \n",
      " 9   상장주식수   127 non-null    int64  \n",
      "dtypes: float64(1), int64(9)\n",
      "memory usage: 10.9+ KB\n"
     ]
    }
   ],
   "source": [
    "df1.info()"
   ]
  },
  {
   "cell_type": "code",
   "execution_count": 10,
   "id": "2865b69f-9d7a-4caf-9a86-e21605a8a47c",
   "metadata": {},
   "outputs": [
    {
     "data": {
      "text/plain": [
       "pandas.core.indexes.base.Index"
      ]
     },
     "execution_count": 10,
     "metadata": {},
     "output_type": "execute_result"
    }
   ],
   "source": [
    "type(df1.index)"
   ]
  },
  {
   "cell_type": "code",
   "execution_count": 17,
   "id": "d08c5ea7-a618-4416-b676-b5c07246413d",
   "metadata": {},
   "outputs": [
    {
     "name": "stderr",
     "output_type": "stream",
     "text": [
      "C:\\iMDGBA\\venv\\Lib\\site-packages\\openpyxl\\styles\\stylesheet.py:237: UserWarning: Workbook contains no default style, apply openpyxl's default\n",
      "  warn(\"Workbook contains no default style, apply openpyxl's default\")\n"
     ]
    },
    {
     "data": {
      "text/html": [
       "<div>\n",
       "<style scoped>\n",
       "    .dataframe tbody tr th:only-of-type {\n",
       "        vertical-align: middle;\n",
       "    }\n",
       "\n",
       "    .dataframe tbody tr th {\n",
       "        vertical-align: top;\n",
       "    }\n",
       "\n",
       "    .dataframe thead th {\n",
       "        text-align: right;\n",
       "    }\n",
       "</style>\n",
       "<table border=\"1\" class=\"dataframe\">\n",
       "  <thead>\n",
       "    <tr style=\"text-align: right;\">\n",
       "      <th></th>\n",
       "      <th>일자</th>\n",
       "      <th>종가</th>\n",
       "      <th>대비</th>\n",
       "      <th>등락률</th>\n",
       "      <th>시가</th>\n",
       "      <th>고가</th>\n",
       "      <th>저가</th>\n",
       "      <th>거래량</th>\n",
       "      <th>거래대금</th>\n",
       "      <th>시가총액</th>\n",
       "      <th>상장주식수</th>\n",
       "    </tr>\n",
       "  </thead>\n",
       "  <tbody>\n",
       "    <tr>\n",
       "      <th>0</th>\n",
       "      <td>2021-08-13</td>\n",
       "      <td>74400</td>\n",
       "      <td>-2600</td>\n",
       "      <td>-3.38</td>\n",
       "      <td>75800</td>\n",
       "      <td>76000</td>\n",
       "      <td>74100</td>\n",
       "      <td>61270643</td>\n",
       "      <td>4575267536355</td>\n",
       "      <td>444151821720000</td>\n",
       "      <td>5969782550</td>\n",
       "    </tr>\n",
       "    <tr>\n",
       "      <th>1</th>\n",
       "      <td>2021-08-12</td>\n",
       "      <td>77000</td>\n",
       "      <td>-1500</td>\n",
       "      <td>-1.91</td>\n",
       "      <td>77100</td>\n",
       "      <td>78200</td>\n",
       "      <td>76900</td>\n",
       "      <td>42365223</td>\n",
       "      <td>3276635421700</td>\n",
       "      <td>459673256350000</td>\n",
       "      <td>5969782550</td>\n",
       "    </tr>\n",
       "    <tr>\n",
       "      <th>2</th>\n",
       "      <td>2021-08-11</td>\n",
       "      <td>78500</td>\n",
       "      <td>-1700</td>\n",
       "      <td>-2.12</td>\n",
       "      <td>79600</td>\n",
       "      <td>79800</td>\n",
       "      <td>78500</td>\n",
       "      <td>30241137</td>\n",
       "      <td>2389977254924</td>\n",
       "      <td>468627930175000</td>\n",
       "      <td>5969782550</td>\n",
       "    </tr>\n",
       "    <tr>\n",
       "      <th>3</th>\n",
       "      <td>2021-08-10</td>\n",
       "      <td>80200</td>\n",
       "      <td>-1300</td>\n",
       "      <td>-1.60</td>\n",
       "      <td>82300</td>\n",
       "      <td>82400</td>\n",
       "      <td>80100</td>\n",
       "      <td>20362639</td>\n",
       "      <td>1643107615500</td>\n",
       "      <td>478776560510000</td>\n",
       "      <td>5969782550</td>\n",
       "    </tr>\n",
       "    <tr>\n",
       "      <th>4</th>\n",
       "      <td>2021-08-09</td>\n",
       "      <td>81500</td>\n",
       "      <td>0</td>\n",
       "      <td>0.00</td>\n",
       "      <td>81500</td>\n",
       "      <td>82300</td>\n",
       "      <td>80900</td>\n",
       "      <td>15522581</td>\n",
       "      <td>1267668377900</td>\n",
       "      <td>486537277825000</td>\n",
       "      <td>5969782550</td>\n",
       "    </tr>\n",
       "  </tbody>\n",
       "</table>\n",
       "</div>"
      ],
      "text/plain": [
       "          일자     종가    대비   등락률     시가     고가     저가       거래량           거래대금  \\\n",
       "0 2021-08-13  74400 -2600 -3.38  75800  76000  74100  61270643  4575267536355   \n",
       "1 2021-08-12  77000 -1500 -1.91  77100  78200  76900  42365223  3276635421700   \n",
       "2 2021-08-11  78500 -1700 -2.12  79600  79800  78500  30241137  2389977254924   \n",
       "3 2021-08-10  80200 -1300 -1.60  82300  82400  80100  20362639  1643107615500   \n",
       "4 2021-08-09  81500     0  0.00  81500  82300  80900  15522581  1267668377900   \n",
       "\n",
       "              시가총액       상장주식수  \n",
       "0  444151821720000  5969782550  \n",
       "1  459673256350000  5969782550  \n",
       "2  468627930175000  5969782550  \n",
       "3  478776560510000  5969782550  \n",
       "4  486537277825000  5969782550  "
      ]
     },
     "execution_count": 17,
     "metadata": {},
     "output_type": "execute_result"
    }
   ],
   "source": [
    "# , parse_dates = ['컬럼 명'] : 해당 컬럼이 날짜형(datetime)이라는 뜻\n",
    "df2=pd.read_excel(\"c:/Archiving/IMDGB/step02_ds_basic/dataset/ss_ex_1.xlsx\", parse_dates=['일자'])\n",
    "df2.head()"
   ]
  },
  {
   "cell_type": "code",
   "execution_count": 18,
   "id": "f71de457-26c6-456a-92ff-ed253c7ea87f",
   "metadata": {},
   "outputs": [
    {
     "name": "stdout",
     "output_type": "stream",
     "text": [
      "<class 'pandas.core.frame.DataFrame'>\n",
      "RangeIndex: 127 entries, 0 to 126\n",
      "Data columns (total 11 columns):\n",
      " #   Column  Non-Null Count  Dtype         \n",
      "---  ------  --------------  -----         \n",
      " 0   일자      127 non-null    datetime64[ns]\n",
      " 1   종가      127 non-null    int64         \n",
      " 2   대비      127 non-null    int64         \n",
      " 3   등락률     127 non-null    float64       \n",
      " 4   시가      127 non-null    int64         \n",
      " 5   고가      127 non-null    int64         \n",
      " 6   저가      127 non-null    int64         \n",
      " 7   거래량     127 non-null    int64         \n",
      " 8   거래대금    127 non-null    int64         \n",
      " 9   시가총액    127 non-null    int64         \n",
      " 10  상장주식수   127 non-null    int64         \n",
      "dtypes: datetime64[ns](1), float64(1), int64(9)\n",
      "memory usage: 11.0 KB\n"
     ]
    }
   ],
   "source": [
    "df2.info()"
   ]
  },
  {
   "cell_type": "code",
   "execution_count": 19,
   "id": "97ca48b3-1523-4a38-9825-8d30b4dc4619",
   "metadata": {},
   "outputs": [
    {
     "data": {
      "text/plain": [
       "RangeIndex(start=0, stop=127, step=1)"
      ]
     },
     "execution_count": 19,
     "metadata": {},
     "output_type": "execute_result"
    }
   ],
   "source": [
    "df2.index"
   ]
  },
  {
   "cell_type": "code",
   "execution_count": 20,
   "id": "498c0b3d-ce88-439e-90b5-d19e62b29465",
   "metadata": {},
   "outputs": [
    {
     "data": {
      "text/plain": [
       "pandas.core.indexes.range.RangeIndex"
      ]
     },
     "execution_count": 20,
     "metadata": {},
     "output_type": "execute_result"
    }
   ],
   "source": [
    "type(df2.index)"
   ]
  },
  {
   "cell_type": "code",
   "execution_count": 21,
   "id": "dbfd9876-1391-4cfd-9ea5-b912ba2fb786",
   "metadata": {},
   "outputs": [
    {
     "name": "stderr",
     "output_type": "stream",
     "text": [
      "C:\\iMDGBA\\venv\\Lib\\site-packages\\openpyxl\\styles\\stylesheet.py:237: UserWarning: Workbook contains no default style, apply openpyxl's default\n",
      "  warn(\"Workbook contains no default style, apply openpyxl's default\")\n"
     ]
    },
    {
     "data": {
      "text/html": [
       "<div>\n",
       "<style scoped>\n",
       "    .dataframe tbody tr th:only-of-type {\n",
       "        vertical-align: middle;\n",
       "    }\n",
       "\n",
       "    .dataframe tbody tr th {\n",
       "        vertical-align: top;\n",
       "    }\n",
       "\n",
       "    .dataframe thead th {\n",
       "        text-align: right;\n",
       "    }\n",
       "</style>\n",
       "<table border=\"1\" class=\"dataframe\">\n",
       "  <thead>\n",
       "    <tr style=\"text-align: right;\">\n",
       "      <th></th>\n",
       "      <th>일자</th>\n",
       "      <th>종가</th>\n",
       "      <th>대비</th>\n",
       "      <th>등락률</th>\n",
       "      <th>시가</th>\n",
       "      <th>고가</th>\n",
       "      <th>저가</th>\n",
       "      <th>거래량</th>\n",
       "      <th>거래대금</th>\n",
       "      <th>시가총액</th>\n",
       "      <th>상장주식수</th>\n",
       "    </tr>\n",
       "  </thead>\n",
       "  <tbody>\n",
       "    <tr>\n",
       "      <th>0</th>\n",
       "      <td>2021/08/13</td>\n",
       "      <td>74400</td>\n",
       "      <td>-2600</td>\n",
       "      <td>-3.38</td>\n",
       "      <td>75800</td>\n",
       "      <td>76000</td>\n",
       "      <td>74100</td>\n",
       "      <td>61270643</td>\n",
       "      <td>4575267536355</td>\n",
       "      <td>444151821720000</td>\n",
       "      <td>5969782550</td>\n",
       "    </tr>\n",
       "    <tr>\n",
       "      <th>1</th>\n",
       "      <td>2021/08/12</td>\n",
       "      <td>77000</td>\n",
       "      <td>-1500</td>\n",
       "      <td>-1.91</td>\n",
       "      <td>77100</td>\n",
       "      <td>78200</td>\n",
       "      <td>76900</td>\n",
       "      <td>42365223</td>\n",
       "      <td>3276635421700</td>\n",
       "      <td>459673256350000</td>\n",
       "      <td>5969782550</td>\n",
       "    </tr>\n",
       "    <tr>\n",
       "      <th>2</th>\n",
       "      <td>2021/08/11</td>\n",
       "      <td>78500</td>\n",
       "      <td>-1700</td>\n",
       "      <td>-2.12</td>\n",
       "      <td>79600</td>\n",
       "      <td>79800</td>\n",
       "      <td>78500</td>\n",
       "      <td>30241137</td>\n",
       "      <td>2389977254924</td>\n",
       "      <td>468627930175000</td>\n",
       "      <td>5969782550</td>\n",
       "    </tr>\n",
       "    <tr>\n",
       "      <th>3</th>\n",
       "      <td>2021/08/10</td>\n",
       "      <td>80200</td>\n",
       "      <td>-1300</td>\n",
       "      <td>-1.60</td>\n",
       "      <td>82300</td>\n",
       "      <td>82400</td>\n",
       "      <td>80100</td>\n",
       "      <td>20362639</td>\n",
       "      <td>1643107615500</td>\n",
       "      <td>478776560510000</td>\n",
       "      <td>5969782550</td>\n",
       "    </tr>\n",
       "    <tr>\n",
       "      <th>4</th>\n",
       "      <td>2021/08/09</td>\n",
       "      <td>81500</td>\n",
       "      <td>0</td>\n",
       "      <td>0.00</td>\n",
       "      <td>81500</td>\n",
       "      <td>82300</td>\n",
       "      <td>80900</td>\n",
       "      <td>15522581</td>\n",
       "      <td>1267668377900</td>\n",
       "      <td>486537277825000</td>\n",
       "      <td>5969782550</td>\n",
       "    </tr>\n",
       "  </tbody>\n",
       "</table>\n",
       "</div>"
      ],
      "text/plain": [
       "           일자     종가    대비   등락률     시가     고가     저가       거래량  \\\n",
       "0  2021/08/13  74400 -2600 -3.38  75800  76000  74100  61270643   \n",
       "1  2021/08/12  77000 -1500 -1.91  77100  78200  76900  42365223   \n",
       "2  2021/08/11  78500 -1700 -2.12  79600  79800  78500  30241137   \n",
       "3  2021/08/10  80200 -1300 -1.60  82300  82400  80100  20362639   \n",
       "4  2021/08/09  81500     0  0.00  81500  82300  80900  15522581   \n",
       "\n",
       "            거래대금             시가총액       상장주식수  \n",
       "0  4575267536355  444151821720000  5969782550  \n",
       "1  3276635421700  459673256350000  5969782550  \n",
       "2  2389977254924  468627930175000  5969782550  \n",
       "3  1643107615500  478776560510000  5969782550  \n",
       "4  1267668377900  486537277825000  5969782550  "
      ]
     },
     "execution_count": 21,
     "metadata": {},
     "output_type": "execute_result"
    }
   ],
   "source": [
    "# 시계열 데이터의 날짜를 날짜형 데이터로 바꾸자 \n",
    "\n",
    "df3=pd.read_excel(\"c:/Archiving/IMDGB/step02_ds_basic/dataset/ss_ex_1.xlsx\")\n",
    "df3.head()"
   ]
  },
  {
   "cell_type": "code",
   "execution_count": 22,
   "id": "361892cc-8aa2-4081-ac8e-e7f8337fcbc8",
   "metadata": {},
   "outputs": [
    {
     "name": "stdout",
     "output_type": "stream",
     "text": [
      "<class 'pandas.core.frame.DataFrame'>\n",
      "RangeIndex: 127 entries, 0 to 126\n",
      "Data columns (total 11 columns):\n",
      " #   Column  Non-Null Count  Dtype  \n",
      "---  ------  --------------  -----  \n",
      " 0   일자      127 non-null    object \n",
      " 1   종가      127 non-null    int64  \n",
      " 2   대비      127 non-null    int64  \n",
      " 3   등락률     127 non-null    float64\n",
      " 4   시가      127 non-null    int64  \n",
      " 5   고가      127 non-null    int64  \n",
      " 6   저가      127 non-null    int64  \n",
      " 7   거래량     127 non-null    int64  \n",
      " 8   거래대금    127 non-null    int64  \n",
      " 9   시가총액    127 non-null    int64  \n",
      " 10  상장주식수   127 non-null    int64  \n",
      "dtypes: float64(1), int64(9), object(1)\n",
      "memory usage: 11.0+ KB\n"
     ]
    }
   ],
   "source": [
    "df3.info()"
   ]
  },
  {
   "cell_type": "code",
   "execution_count": 23,
   "id": "cbb24cbf-9c05-438e-a217-daec6ec95056",
   "metadata": {},
   "outputs": [
    {
     "data": {
      "text/plain": [
       "RangeIndex(start=0, stop=127, step=1)"
      ]
     },
     "execution_count": 23,
     "metadata": {},
     "output_type": "execute_result"
    }
   ],
   "source": [
    "df3.index"
   ]
  },
  {
   "cell_type": "code",
   "execution_count": 24,
   "id": "b41de78c-7889-49c2-b9e6-f19c700df1a5",
   "metadata": {},
   "outputs": [
    {
     "name": "stderr",
     "output_type": "stream",
     "text": [
      "C:\\iMDGBA\\venv\\Lib\\site-packages\\openpyxl\\styles\\stylesheet.py:237: UserWarning: Workbook contains no default style, apply openpyxl's default\n",
      "  warn(\"Workbook contains no default style, apply openpyxl's default\")\n"
     ]
    },
    {
     "data": {
      "text/html": [
       "<div>\n",
       "<style scoped>\n",
       "    .dataframe tbody tr th:only-of-type {\n",
       "        vertical-align: middle;\n",
       "    }\n",
       "\n",
       "    .dataframe tbody tr th {\n",
       "        vertical-align: top;\n",
       "    }\n",
       "\n",
       "    .dataframe thead th {\n",
       "        text-align: right;\n",
       "    }\n",
       "</style>\n",
       "<table border=\"1\" class=\"dataframe\">\n",
       "  <thead>\n",
       "    <tr style=\"text-align: right;\">\n",
       "      <th></th>\n",
       "      <th>종가</th>\n",
       "      <th>대비</th>\n",
       "      <th>등락률</th>\n",
       "      <th>시가</th>\n",
       "      <th>고가</th>\n",
       "      <th>저가</th>\n",
       "      <th>거래량</th>\n",
       "      <th>거래대금</th>\n",
       "      <th>시가총액</th>\n",
       "      <th>상장주식수</th>\n",
       "    </tr>\n",
       "    <tr>\n",
       "      <th>일자</th>\n",
       "      <th></th>\n",
       "      <th></th>\n",
       "      <th></th>\n",
       "      <th></th>\n",
       "      <th></th>\n",
       "      <th></th>\n",
       "      <th></th>\n",
       "      <th></th>\n",
       "      <th></th>\n",
       "      <th></th>\n",
       "    </tr>\n",
       "  </thead>\n",
       "  <tbody>\n",
       "    <tr>\n",
       "      <th>2021/08/13</th>\n",
       "      <td>74400</td>\n",
       "      <td>-2600</td>\n",
       "      <td>-3.38</td>\n",
       "      <td>75800</td>\n",
       "      <td>76000</td>\n",
       "      <td>74100</td>\n",
       "      <td>61270643</td>\n",
       "      <td>4575267536355</td>\n",
       "      <td>444151821720000</td>\n",
       "      <td>5969782550</td>\n",
       "    </tr>\n",
       "    <tr>\n",
       "      <th>2021/08/12</th>\n",
       "      <td>77000</td>\n",
       "      <td>-1500</td>\n",
       "      <td>-1.91</td>\n",
       "      <td>77100</td>\n",
       "      <td>78200</td>\n",
       "      <td>76900</td>\n",
       "      <td>42365223</td>\n",
       "      <td>3276635421700</td>\n",
       "      <td>459673256350000</td>\n",
       "      <td>5969782550</td>\n",
       "    </tr>\n",
       "    <tr>\n",
       "      <th>2021/08/11</th>\n",
       "      <td>78500</td>\n",
       "      <td>-1700</td>\n",
       "      <td>-2.12</td>\n",
       "      <td>79600</td>\n",
       "      <td>79800</td>\n",
       "      <td>78500</td>\n",
       "      <td>30241137</td>\n",
       "      <td>2389977254924</td>\n",
       "      <td>468627930175000</td>\n",
       "      <td>5969782550</td>\n",
       "    </tr>\n",
       "    <tr>\n",
       "      <th>2021/08/10</th>\n",
       "      <td>80200</td>\n",
       "      <td>-1300</td>\n",
       "      <td>-1.60</td>\n",
       "      <td>82300</td>\n",
       "      <td>82400</td>\n",
       "      <td>80100</td>\n",
       "      <td>20362639</td>\n",
       "      <td>1643107615500</td>\n",
       "      <td>478776560510000</td>\n",
       "      <td>5969782550</td>\n",
       "    </tr>\n",
       "    <tr>\n",
       "      <th>2021/08/09</th>\n",
       "      <td>81500</td>\n",
       "      <td>0</td>\n",
       "      <td>0.00</td>\n",
       "      <td>81500</td>\n",
       "      <td>82300</td>\n",
       "      <td>80900</td>\n",
       "      <td>15522581</td>\n",
       "      <td>1267668377900</td>\n",
       "      <td>486537277825000</td>\n",
       "      <td>5969782550</td>\n",
       "    </tr>\n",
       "  </tbody>\n",
       "</table>\n",
       "</div>"
      ],
      "text/plain": [
       "               종가    대비   등락률     시가     고가     저가       거래량           거래대금  \\\n",
       "일자                                                                            \n",
       "2021/08/13  74400 -2600 -3.38  75800  76000  74100  61270643  4575267536355   \n",
       "2021/08/12  77000 -1500 -1.91  77100  78200  76900  42365223  3276635421700   \n",
       "2021/08/11  78500 -1700 -2.12  79600  79800  78500  30241137  2389977254924   \n",
       "2021/08/10  80200 -1300 -1.60  82300  82400  80100  20362639  1643107615500   \n",
       "2021/08/09  81500     0  0.00  81500  82300  80900  15522581  1267668377900   \n",
       "\n",
       "                       시가총액       상장주식수  \n",
       "일자                                       \n",
       "2021/08/13  444151821720000  5969782550  \n",
       "2021/08/12  459673256350000  5969782550  \n",
       "2021/08/11  468627930175000  5969782550  \n",
       "2021/08/10  478776560510000  5969782550  \n",
       "2021/08/09  486537277825000  5969782550  "
      ]
     },
     "execution_count": 24,
     "metadata": {},
     "output_type": "execute_result"
    }
   ],
   "source": [
    "df3=pd.read_excel(\"c:/Archiving/IMDGB/step02_ds_basic/dataset/ss_ex_1.xlsx\", index_col = 0)\n",
    "df3.head()"
   ]
  },
  {
   "cell_type": "code",
   "execution_count": 25,
   "id": "446bdbd1-b6ad-4d35-ad3e-8bef581cb8bf",
   "metadata": {},
   "outputs": [
    {
     "data": {
      "text/plain": [
       "Index(['2021/08/13', '2021/08/12', '2021/08/11', '2021/08/10', '2021/08/09',\n",
       "       '2021/08/06', '2021/08/05', '2021/08/04', '2021/08/03', '2021/08/02',\n",
       "       ...\n",
       "       '2021/02/26', '2021/02/25', '2021/02/24', '2021/02/23', '2021/02/22',\n",
       "       '2021/02/19', '2021/02/18', '2021/02/17', '2021/02/16', '2021/02/15'],\n",
       "      dtype='object', name='일자', length=127)"
      ]
     },
     "execution_count": 25,
     "metadata": {},
     "output_type": "execute_result"
    }
   ],
   "source": [
    "df3.index"
   ]
  },
  {
   "cell_type": "code",
   "execution_count": 26,
   "id": "27780787-ade9-4ee2-9ba7-2cfcfc14ff54",
   "metadata": {},
   "outputs": [
    {
     "name": "stdout",
     "output_type": "stream",
     "text": [
      "<class 'pandas.core.frame.DataFrame'>\n",
      "Index: 127 entries, 2021/08/13 to 2021/02/15\n",
      "Data columns (total 10 columns):\n",
      " #   Column  Non-Null Count  Dtype  \n",
      "---  ------  --------------  -----  \n",
      " 0   종가      127 non-null    int64  \n",
      " 1   대비      127 non-null    int64  \n",
      " 2   등락률     127 non-null    float64\n",
      " 3   시가      127 non-null    int64  \n",
      " 4   고가      127 non-null    int64  \n",
      " 5   저가      127 non-null    int64  \n",
      " 6   거래량     127 non-null    int64  \n",
      " 7   거래대금    127 non-null    int64  \n",
      " 8   시가총액    127 non-null    int64  \n",
      " 9   상장주식수   127 non-null    int64  \n",
      "dtypes: float64(1), int64(9)\n",
      "memory usage: 10.9+ KB\n"
     ]
    }
   ],
   "source": [
    "df3.info()"
   ]
  },
  {
   "cell_type": "code",
   "execution_count": 27,
   "id": "09f18f89-c2c9-4685-997e-b144b9796bf5",
   "metadata": {},
   "outputs": [
    {
     "data": {
      "text/plain": [
       "pandas.core.indexes.base.Index"
      ]
     },
     "execution_count": 27,
     "metadata": {},
     "output_type": "execute_result"
    }
   ],
   "source": [
    "type(df3.index)"
   ]
  },
  {
   "cell_type": "code",
   "execution_count": 28,
   "id": "c37b0bb2-0f41-45f1-8756-7ccdb90ff7b8",
   "metadata": {},
   "outputs": [],
   "source": [
    "# 날짜 인덱스의 type을 날짜형(date time)으로 바꾸자"
   ]
  },
  {
   "cell_type": "markdown",
   "id": "cd7f8775-9875-419b-9796-01605e4348e6",
   "metadata": {},
   "source": [
    "## pd.to_datetime"
   ]
  },
  {
   "cell_type": "code",
   "execution_count": 29,
   "id": "90c4f15d-a7ff-4510-ad3d-776cae0a3c0c",
   "metadata": {},
   "outputs": [
    {
     "data": {
      "text/plain": [
       "(               종가    대비   등락률     시가     고가     저가       거래량           거래대금  \\\n",
       " 일자                                                                            \n",
       " 2021-08-13  74400 -2600 -3.38  75800  76000  74100  61270643  4575267536355   \n",
       " 2021-08-12  77000 -1500 -1.91  77100  78200  76900  42365223  3276635421700   \n",
       " 2021-08-11  78500 -1700 -2.12  79600  79800  78500  30241137  2389977254924   \n",
       " 2021-08-10  80200 -1300 -1.60  82300  82400  80100  20362639  1643107615500   \n",
       " 2021-08-09  81500     0  0.00  81500  82300  80900  15522581  1267668377900   \n",
       " \n",
       "                        시가총액       상장주식수  \n",
       " 일자                                       \n",
       " 2021-08-13  444151821720000  5969782550  \n",
       " 2021-08-12  459673256350000  5969782550  \n",
       " 2021-08-11  468627930175000  5969782550  \n",
       " 2021-08-10  478776560510000  5969782550  \n",
       " 2021-08-09  486537277825000  5969782550  ,\n",
       " pandas.core.indexes.datetimes.DatetimeIndex)"
      ]
     },
     "execution_count": 29,
     "metadata": {},
     "output_type": "execute_result"
    }
   ],
   "source": [
    "df3.index = pd.to_datetime(df3.index)\n",
    "df3.head(), type(df3.index)"
   ]
  },
  {
   "cell_type": "code",
   "execution_count": 30,
   "id": "10e1ad00-0028-443f-9cce-e291c5c8b193",
   "metadata": {},
   "outputs": [
    {
     "data": {
      "text/html": [
       "<div>\n",
       "<style scoped>\n",
       "    .dataframe tbody tr th:only-of-type {\n",
       "        vertical-align: middle;\n",
       "    }\n",
       "\n",
       "    .dataframe tbody tr th {\n",
       "        vertical-align: top;\n",
       "    }\n",
       "\n",
       "    .dataframe thead th {\n",
       "        text-align: right;\n",
       "    }\n",
       "</style>\n",
       "<table border=\"1\" class=\"dataframe\">\n",
       "  <thead>\n",
       "    <tr style=\"text-align: right;\">\n",
       "      <th></th>\n",
       "      <th>종가</th>\n",
       "      <th>대비</th>\n",
       "      <th>등락률</th>\n",
       "      <th>시가</th>\n",
       "      <th>고가</th>\n",
       "      <th>저가</th>\n",
       "      <th>거래량</th>\n",
       "      <th>거래대금</th>\n",
       "      <th>시가총액</th>\n",
       "      <th>상장주식수</th>\n",
       "    </tr>\n",
       "    <tr>\n",
       "      <th>일자</th>\n",
       "      <th></th>\n",
       "      <th></th>\n",
       "      <th></th>\n",
       "      <th></th>\n",
       "      <th></th>\n",
       "      <th></th>\n",
       "      <th></th>\n",
       "      <th></th>\n",
       "      <th></th>\n",
       "      <th></th>\n",
       "    </tr>\n",
       "  </thead>\n",
       "  <tbody>\n",
       "    <tr>\n",
       "      <th>2021-08-13</th>\n",
       "      <td>74400</td>\n",
       "      <td>-2600</td>\n",
       "      <td>-3.38</td>\n",
       "      <td>75800</td>\n",
       "      <td>76000</td>\n",
       "      <td>74100</td>\n",
       "      <td>61270643</td>\n",
       "      <td>4575267536355</td>\n",
       "      <td>444151821720000</td>\n",
       "      <td>5969782550</td>\n",
       "    </tr>\n",
       "    <tr>\n",
       "      <th>2021-08-12</th>\n",
       "      <td>77000</td>\n",
       "      <td>-1500</td>\n",
       "      <td>-1.91</td>\n",
       "      <td>77100</td>\n",
       "      <td>78200</td>\n",
       "      <td>76900</td>\n",
       "      <td>42365223</td>\n",
       "      <td>3276635421700</td>\n",
       "      <td>459673256350000</td>\n",
       "      <td>5969782550</td>\n",
       "    </tr>\n",
       "    <tr>\n",
       "      <th>2021-08-11</th>\n",
       "      <td>78500</td>\n",
       "      <td>-1700</td>\n",
       "      <td>-2.12</td>\n",
       "      <td>79600</td>\n",
       "      <td>79800</td>\n",
       "      <td>78500</td>\n",
       "      <td>30241137</td>\n",
       "      <td>2389977254924</td>\n",
       "      <td>468627930175000</td>\n",
       "      <td>5969782550</td>\n",
       "    </tr>\n",
       "    <tr>\n",
       "      <th>2021-08-10</th>\n",
       "      <td>80200</td>\n",
       "      <td>-1300</td>\n",
       "      <td>-1.60</td>\n",
       "      <td>82300</td>\n",
       "      <td>82400</td>\n",
       "      <td>80100</td>\n",
       "      <td>20362639</td>\n",
       "      <td>1643107615500</td>\n",
       "      <td>478776560510000</td>\n",
       "      <td>5969782550</td>\n",
       "    </tr>\n",
       "    <tr>\n",
       "      <th>2021-08-09</th>\n",
       "      <td>81500</td>\n",
       "      <td>0</td>\n",
       "      <td>0.00</td>\n",
       "      <td>81500</td>\n",
       "      <td>82300</td>\n",
       "      <td>80900</td>\n",
       "      <td>15522581</td>\n",
       "      <td>1267668377900</td>\n",
       "      <td>486537277825000</td>\n",
       "      <td>5969782550</td>\n",
       "    </tr>\n",
       "  </tbody>\n",
       "</table>\n",
       "</div>"
      ],
      "text/plain": [
       "               종가    대비   등락률     시가     고가     저가       거래량           거래대금  \\\n",
       "일자                                                                            \n",
       "2021-08-13  74400 -2600 -3.38  75800  76000  74100  61270643  4575267536355   \n",
       "2021-08-12  77000 -1500 -1.91  77100  78200  76900  42365223  3276635421700   \n",
       "2021-08-11  78500 -1700 -2.12  79600  79800  78500  30241137  2389977254924   \n",
       "2021-08-10  80200 -1300 -1.60  82300  82400  80100  20362639  1643107615500   \n",
       "2021-08-09  81500     0  0.00  81500  82300  80900  15522581  1267668377900   \n",
       "\n",
       "                       시가총액       상장주식수  \n",
       "일자                                       \n",
       "2021-08-13  444151821720000  5969782550  \n",
       "2021-08-12  459673256350000  5969782550  \n",
       "2021-08-11  468627930175000  5969782550  \n",
       "2021-08-10  478776560510000  5969782550  \n",
       "2021-08-09  486537277825000  5969782550  "
      ]
     },
     "execution_count": 30,
     "metadata": {},
     "output_type": "execute_result"
    }
   ],
   "source": [
    "df3.head()"
   ]
  },
  {
   "cell_type": "code",
   "execution_count": 31,
   "id": "95df94bb-063f-4450-afa2-3c20c9ed467f",
   "metadata": {},
   "outputs": [
    {
     "data": {
      "text/plain": [
       "pandas.core.indexes.datetimes.DatetimeIndex"
      ]
     },
     "execution_count": 31,
     "metadata": {},
     "output_type": "execute_result"
    }
   ],
   "source": [
    "type(df3.index)"
   ]
  },
  {
   "cell_type": "code",
   "execution_count": 32,
   "id": "59b559cc-a1ad-4cf1-b92f-a00934bc591a",
   "metadata": {},
   "outputs": [
    {
     "name": "stderr",
     "output_type": "stream",
     "text": [
      "C:\\iMDGBA\\venv\\Lib\\site-packages\\openpyxl\\styles\\stylesheet.py:237: UserWarning: Workbook contains no default style, apply openpyxl's default\n",
      "  warn(\"Workbook contains no default style, apply openpyxl's default\")\n"
     ]
    },
    {
     "data": {
      "text/html": [
       "<div>\n",
       "<style scoped>\n",
       "    .dataframe tbody tr th:only-of-type {\n",
       "        vertical-align: middle;\n",
       "    }\n",
       "\n",
       "    .dataframe tbody tr th {\n",
       "        vertical-align: top;\n",
       "    }\n",
       "\n",
       "    .dataframe thead th {\n",
       "        text-align: right;\n",
       "    }\n",
       "</style>\n",
       "<table border=\"1\" class=\"dataframe\">\n",
       "  <thead>\n",
       "    <tr style=\"text-align: right;\">\n",
       "      <th></th>\n",
       "      <th>종가</th>\n",
       "      <th>대비</th>\n",
       "      <th>등락률</th>\n",
       "      <th>시가</th>\n",
       "      <th>고가</th>\n",
       "      <th>저가</th>\n",
       "      <th>거래량</th>\n",
       "      <th>거래대금</th>\n",
       "      <th>시가총액</th>\n",
       "      <th>상장주식수</th>\n",
       "    </tr>\n",
       "    <tr>\n",
       "      <th>일자</th>\n",
       "      <th></th>\n",
       "      <th></th>\n",
       "      <th></th>\n",
       "      <th></th>\n",
       "      <th></th>\n",
       "      <th></th>\n",
       "      <th></th>\n",
       "      <th></th>\n",
       "      <th></th>\n",
       "      <th></th>\n",
       "    </tr>\n",
       "  </thead>\n",
       "  <tbody>\n",
       "    <tr>\n",
       "      <th>2021-08-13</th>\n",
       "      <td>74400</td>\n",
       "      <td>-2600</td>\n",
       "      <td>-3.38</td>\n",
       "      <td>75800</td>\n",
       "      <td>76000</td>\n",
       "      <td>74100</td>\n",
       "      <td>61270643</td>\n",
       "      <td>4575267536355</td>\n",
       "      <td>444151821720000</td>\n",
       "      <td>5969782550</td>\n",
       "    </tr>\n",
       "    <tr>\n",
       "      <th>2021-08-12</th>\n",
       "      <td>77000</td>\n",
       "      <td>-1500</td>\n",
       "      <td>-1.91</td>\n",
       "      <td>77100</td>\n",
       "      <td>78200</td>\n",
       "      <td>76900</td>\n",
       "      <td>42365223</td>\n",
       "      <td>3276635421700</td>\n",
       "      <td>459673256350000</td>\n",
       "      <td>5969782550</td>\n",
       "    </tr>\n",
       "    <tr>\n",
       "      <th>2021-08-11</th>\n",
       "      <td>78500</td>\n",
       "      <td>-1700</td>\n",
       "      <td>-2.12</td>\n",
       "      <td>79600</td>\n",
       "      <td>79800</td>\n",
       "      <td>78500</td>\n",
       "      <td>30241137</td>\n",
       "      <td>2389977254924</td>\n",
       "      <td>468627930175000</td>\n",
       "      <td>5969782550</td>\n",
       "    </tr>\n",
       "    <tr>\n",
       "      <th>2021-08-10</th>\n",
       "      <td>80200</td>\n",
       "      <td>-1300</td>\n",
       "      <td>-1.60</td>\n",
       "      <td>82300</td>\n",
       "      <td>82400</td>\n",
       "      <td>80100</td>\n",
       "      <td>20362639</td>\n",
       "      <td>1643107615500</td>\n",
       "      <td>478776560510000</td>\n",
       "      <td>5969782550</td>\n",
       "    </tr>\n",
       "    <tr>\n",
       "      <th>2021-08-09</th>\n",
       "      <td>81500</td>\n",
       "      <td>0</td>\n",
       "      <td>0.00</td>\n",
       "      <td>81500</td>\n",
       "      <td>82300</td>\n",
       "      <td>80900</td>\n",
       "      <td>15522581</td>\n",
       "      <td>1267668377900</td>\n",
       "      <td>486537277825000</td>\n",
       "      <td>5969782550</td>\n",
       "    </tr>\n",
       "  </tbody>\n",
       "</table>\n",
       "</div>"
      ],
      "text/plain": [
       "               종가    대비   등락률     시가     고가     저가       거래량           거래대금  \\\n",
       "일자                                                                            \n",
       "2021-08-13  74400 -2600 -3.38  75800  76000  74100  61270643  4575267536355   \n",
       "2021-08-12  77000 -1500 -1.91  77100  78200  76900  42365223  3276635421700   \n",
       "2021-08-11  78500 -1700 -2.12  79600  79800  78500  30241137  2389977254924   \n",
       "2021-08-10  80200 -1300 -1.60  82300  82400  80100  20362639  1643107615500   \n",
       "2021-08-09  81500     0  0.00  81500  82300  80900  15522581  1267668377900   \n",
       "\n",
       "                       시가총액       상장주식수  \n",
       "일자                                       \n",
       "2021-08-13  444151821720000  5969782550  \n",
       "2021-08-12  459673256350000  5969782550  \n",
       "2021-08-11  468627930175000  5969782550  \n",
       "2021-08-10  478776560510000  5969782550  \n",
       "2021-08-09  486537277825000  5969782550  "
      ]
     },
     "execution_count": 32,
     "metadata": {},
     "output_type": "execute_result"
    }
   ],
   "source": [
    "# index_col and parse_dates\n",
    "df4=pd.read_excel(\"c:/Archiving/IMDGB/step02_ds_basic/dataset/ss_ex_1.xlsx\", parse_dates=['일자'], index_col=0)\n",
    "df4.head()"
   ]
  },
  {
   "cell_type": "code",
   "execution_count": 33,
   "id": "9c235193-4fc4-45ba-9f67-cd4b258a49f5",
   "metadata": {},
   "outputs": [
    {
     "name": "stdout",
     "output_type": "stream",
     "text": [
      "<class 'pandas.core.frame.DataFrame'>\n",
      "DatetimeIndex: 127 entries, 2021-08-13 to 2021-02-15\n",
      "Data columns (total 10 columns):\n",
      " #   Column  Non-Null Count  Dtype  \n",
      "---  ------  --------------  -----  \n",
      " 0   종가      127 non-null    int64  \n",
      " 1   대비      127 non-null    int64  \n",
      " 2   등락률     127 non-null    float64\n",
      " 3   시가      127 non-null    int64  \n",
      " 4   고가      127 non-null    int64  \n",
      " 5   저가      127 non-null    int64  \n",
      " 6   거래량     127 non-null    int64  \n",
      " 7   거래대금    127 non-null    int64  \n",
      " 8   시가총액    127 non-null    int64  \n",
      " 9   상장주식수   127 non-null    int64  \n",
      "dtypes: float64(1), int64(9)\n",
      "memory usage: 10.9 KB\n"
     ]
    }
   ],
   "source": [
    "df4.info()"
   ]
  },
  {
   "cell_type": "code",
   "execution_count": 34,
   "id": "6b88cfbb-60a9-4fa3-9740-46d76b5bb6a8",
   "metadata": {},
   "outputs": [
    {
     "data": {
      "text/plain": [
       "DatetimeIndex(['2021-08-13', '2021-08-12', '2021-08-11', '2021-08-10',\n",
       "               '2021-08-09', '2021-08-06', '2021-08-05', '2021-08-04',\n",
       "               '2021-08-03', '2021-08-02',\n",
       "               ...\n",
       "               '2021-02-26', '2021-02-25', '2021-02-24', '2021-02-23',\n",
       "               '2021-02-22', '2021-02-19', '2021-02-18', '2021-02-17',\n",
       "               '2021-02-16', '2021-02-15'],\n",
       "              dtype='datetime64[ns]', name='일자', length=127, freq=None)"
      ]
     },
     "execution_count": 34,
     "metadata": {},
     "output_type": "execute_result"
    }
   ],
   "source": [
    "df4.index"
   ]
  },
  {
   "cell_type": "code",
   "execution_count": 35,
   "id": "9bb606be-d4e6-4baa-98e9-e7e6a796e864",
   "metadata": {},
   "outputs": [
    {
     "data": {
      "text/plain": [
       "pandas.core.indexes.datetimes.DatetimeIndex"
      ]
     },
     "execution_count": 35,
     "metadata": {},
     "output_type": "execute_result"
    }
   ],
   "source": [
    "type(df4.index)"
   ]
  },
  {
   "cell_type": "markdown",
   "id": "e6e0ba5e-e65e-482a-904f-6dd7107c5707",
   "metadata": {},
   "source": [
    "# filter 메서드\n",
    "- iloc, loc와 마찬가지로 행과, 열 조회하는 것임\n",
    "> 근데 filter 쓰는 이유\n",
    "> - 정규표현식 등 활요하면\n",
    "> - 수많은 데이터에서 조회하기 쉽기 때문\n",
    "> - 정규표현식 사용하면 원하는 행과 열 뽑아 낼 수 있음\n",
    "> - ex) 카드 명이 상품ㅁ명 수천개인데, 다 텍스트임. 근데 그 네임ㅇ에 원칙이 있음. 그러면 키워드로 원하는 행 뽑아 낼 수 있음."
   ]
  },
  {
   "cell_type": "code",
   "execution_count": 36,
   "id": "a69f2667-79f3-465b-bf01-9aaed63c333a",
   "metadata": {},
   "outputs": [
    {
     "data": {
      "text/html": [
       "<div>\n",
       "<style scoped>\n",
       "    .dataframe tbody tr th:only-of-type {\n",
       "        vertical-align: middle;\n",
       "    }\n",
       "\n",
       "    .dataframe tbody tr th {\n",
       "        vertical-align: top;\n",
       "    }\n",
       "\n",
       "    .dataframe thead th {\n",
       "        text-align: right;\n",
       "    }\n",
       "</style>\n",
       "<table border=\"1\" class=\"dataframe\">\n",
       "  <thead>\n",
       "    <tr style=\"text-align: right;\">\n",
       "      <th></th>\n",
       "      <th>2018/12</th>\n",
       "      <th>2019/12</th>\n",
       "      <th>2020/12</th>\n",
       "      <th>2021/12(E)</th>\n",
       "    </tr>\n",
       "  </thead>\n",
       "  <tbody>\n",
       "    <tr>\n",
       "      <th>DPS</th>\n",
       "      <td>1416.00</td>\n",
       "      <td>1416.00</td>\n",
       "      <td>2994.00</td>\n",
       "      <td>1755.00</td>\n",
       "    </tr>\n",
       "    <tr>\n",
       "      <th>PER</th>\n",
       "      <td>6.42</td>\n",
       "      <td>17.63</td>\n",
       "      <td>21.09</td>\n",
       "      <td>13.93</td>\n",
       "    </tr>\n",
       "    <tr>\n",
       "      <th>PBR</th>\n",
       "      <td>1.10</td>\n",
       "      <td>1.49</td>\n",
       "      <td>2.06</td>\n",
       "      <td>1.88</td>\n",
       "    </tr>\n",
       "  </tbody>\n",
       "</table>\n",
       "</div>"
      ],
      "text/plain": [
       "     2018/12  2019/12  2020/12  2021/12(E)\n",
       "DPS  1416.00  1416.00  2994.00     1755.00\n",
       "PER     6.42    17.63    21.09       13.93\n",
       "PBR     1.10     1.49     2.06        1.88"
      ]
     },
     "execution_count": 36,
     "metadata": {},
     "output_type": "execute_result"
    }
   ],
   "source": [
    "data = [\n",
    "    [1416, 1416, 2994, 1755],\n",
    "    [6.42, 17.63, 21.09, 13.93],\n",
    "    [1.10, 1.49, 2.06, 1.88]\n",
    "]\n",
    "\n",
    "columns = [\"2018/12\", \"2019/12\", \"2020/12\", \"2021/12(E)\"]\n",
    "index = [\"DPS\", \"PER\", \"PBR\"]\n",
    "\n",
    "df = DataFrame(data=data, index=index, columns=columns)\n",
    "df"
   ]
  },
  {
   "cell_type": "code",
   "execution_count": 37,
   "id": "de32c992-b07d-42bd-89be-76f76699860e",
   "metadata": {},
   "outputs": [
    {
     "name": "stdout",
     "output_type": "stream",
     "text": [
      "<class 'pandas.core.frame.DataFrame'>\n",
      "Index: 3 entries, DPS to PBR\n",
      "Data columns (total 4 columns):\n",
      " #   Column      Non-Null Count  Dtype  \n",
      "---  ------      --------------  -----  \n",
      " 0   2018/12     3 non-null      float64\n",
      " 1   2019/12     3 non-null      float64\n",
      " 2   2020/12     3 non-null      float64\n",
      " 3   2021/12(E)  3 non-null      float64\n",
      "dtypes: float64(4)\n",
      "memory usage: 120.0+ bytes\n"
     ]
    }
   ],
   "source": [
    "df.info()"
   ]
  },
  {
   "cell_type": "markdown",
   "id": "d094984a-b8f6-4051-89f4-39ece74cfca2",
   "metadata": {},
   "source": [
    "## 필터 메서드 적용"
   ]
  },
  {
   "cell_type": "code",
   "execution_count": 38,
   "id": "51273a17-06c1-494f-906f-1e130ad6e3e8",
   "metadata": {},
   "outputs": [
    {
     "data": {
      "text/html": [
       "<div>\n",
       "<style scoped>\n",
       "    .dataframe tbody tr th:only-of-type {\n",
       "        vertical-align: middle;\n",
       "    }\n",
       "\n",
       "    .dataframe tbody tr th {\n",
       "        vertical-align: top;\n",
       "    }\n",
       "\n",
       "    .dataframe thead th {\n",
       "        text-align: right;\n",
       "    }\n",
       "</style>\n",
       "<table border=\"1\" class=\"dataframe\">\n",
       "  <thead>\n",
       "    <tr style=\"text-align: right;\">\n",
       "      <th></th>\n",
       "      <th>2018/12</th>\n",
       "    </tr>\n",
       "  </thead>\n",
       "  <tbody>\n",
       "    <tr>\n",
       "      <th>DPS</th>\n",
       "      <td>1416.00</td>\n",
       "    </tr>\n",
       "    <tr>\n",
       "      <th>PER</th>\n",
       "      <td>6.42</td>\n",
       "    </tr>\n",
       "    <tr>\n",
       "      <th>PBR</th>\n",
       "      <td>1.10</td>\n",
       "    </tr>\n",
       "  </tbody>\n",
       "</table>\n",
       "</div>"
      ],
      "text/plain": [
       "     2018/12\n",
       "DPS  1416.00\n",
       "PER     6.42\n",
       "PBR     1.10"
      ]
     },
     "execution_count": 38,
     "metadata": {},
     "output_type": "execute_result"
    }
   ],
   "source": [
    "df.filter(items=['2018/12'])"
   ]
  },
  {
   "cell_type": "code",
   "execution_count": 39,
   "id": "dc385bfc-1943-42b6-9137-b94ad6fa224c",
   "metadata": {},
   "outputs": [
    {
     "data": {
      "text/html": [
       "<div>\n",
       "<style scoped>\n",
       "    .dataframe tbody tr th:only-of-type {\n",
       "        vertical-align: middle;\n",
       "    }\n",
       "\n",
       "    .dataframe tbody tr th {\n",
       "        vertical-align: top;\n",
       "    }\n",
       "\n",
       "    .dataframe thead th {\n",
       "        text-align: right;\n",
       "    }\n",
       "</style>\n",
       "<table border=\"1\" class=\"dataframe\">\n",
       "  <thead>\n",
       "    <tr style=\"text-align: right;\">\n",
       "      <th></th>\n",
       "      <th>2018/12</th>\n",
       "      <th>2019/12</th>\n",
       "      <th>2020/12</th>\n",
       "      <th>2021/12(E)</th>\n",
       "    </tr>\n",
       "  </thead>\n",
       "  <tbody>\n",
       "    <tr>\n",
       "      <th>PER</th>\n",
       "      <td>6.42</td>\n",
       "      <td>17.63</td>\n",
       "      <td>21.09</td>\n",
       "      <td>13.93</td>\n",
       "    </tr>\n",
       "  </tbody>\n",
       "</table>\n",
       "</div>"
      ],
      "text/plain": [
       "     2018/12  2019/12  2020/12  2021/12(E)\n",
       "PER     6.42    17.63    21.09       13.93"
      ]
     },
     "execution_count": 39,
     "metadata": {},
     "output_type": "execute_result"
    }
   ],
   "source": [
    "df.filter(items=['PER'],axis=0) # 가로: axis = 0"
   ]
  },
  {
   "cell_type": "code",
   "execution_count": 41,
   "id": "88e2651d-4c00-458e-8980-cde21b6e3547",
   "metadata": {},
   "outputs": [
    {
     "data": {
      "text/html": [
       "<div>\n",
       "<style scoped>\n",
       "    .dataframe tbody tr th:only-of-type {\n",
       "        vertical-align: middle;\n",
       "    }\n",
       "\n",
       "    .dataframe tbody tr th {\n",
       "        vertical-align: top;\n",
       "    }\n",
       "\n",
       "    .dataframe thead th {\n",
       "        text-align: right;\n",
       "    }\n",
       "</style>\n",
       "<table border=\"1\" class=\"dataframe\">\n",
       "  <thead>\n",
       "    <tr style=\"text-align: right;\">\n",
       "      <th></th>\n",
       "    </tr>\n",
       "  </thead>\n",
       "  <tbody>\n",
       "    <tr>\n",
       "      <th>DPS</th>\n",
       "    </tr>\n",
       "    <tr>\n",
       "      <th>PER</th>\n",
       "    </tr>\n",
       "    <tr>\n",
       "      <th>PBR</th>\n",
       "    </tr>\n",
       "  </tbody>\n",
       "</table>\n",
       "</div>"
      ],
      "text/plain": [
       "Empty DataFrame\n",
       "Columns: []\n",
       "Index: [DPS, PER, PBR]"
      ]
     },
     "execution_count": 41,
     "metadata": {},
     "output_type": "execute_result"
    }
   ],
   "source": [
    "df.filter(items=['PER'])"
   ]
  },
  {
   "cell_type": "markdown",
   "id": "00ecbc34-f527-448e-be67-d3ba30abd7d5",
   "metadata": {},
   "source": [
    "## 정규표현식 (regex)\n",
    "- 정규표현식을 활용해 행과 열을 조회해보자\n",
    "- 블로그"
   ]
  },
  {
   "cell_type": "code",
   "execution_count": 42,
   "id": "6dafc1e9-ec25-4b88-bc14-88aae1305d09",
   "metadata": {},
   "outputs": [
    {
     "data": {
      "text/html": [
       "<div>\n",
       "<style scoped>\n",
       "    .dataframe tbody tr th:only-of-type {\n",
       "        vertical-align: middle;\n",
       "    }\n",
       "\n",
       "    .dataframe tbody tr th {\n",
       "        vertical-align: top;\n",
       "    }\n",
       "\n",
       "    .dataframe thead th {\n",
       "        text-align: right;\n",
       "    }\n",
       "</style>\n",
       "<table border=\"1\" class=\"dataframe\">\n",
       "  <thead>\n",
       "    <tr style=\"text-align: right;\">\n",
       "      <th></th>\n",
       "      <th>2020/12</th>\n",
       "    </tr>\n",
       "  </thead>\n",
       "  <tbody>\n",
       "    <tr>\n",
       "      <th>DPS</th>\n",
       "      <td>2994.00</td>\n",
       "    </tr>\n",
       "    <tr>\n",
       "      <th>PER</th>\n",
       "      <td>21.09</td>\n",
       "    </tr>\n",
       "    <tr>\n",
       "      <th>PBR</th>\n",
       "      <td>2.06</td>\n",
       "    </tr>\n",
       "  </tbody>\n",
       "</table>\n",
       "</div>"
      ],
      "text/plain": [
       "     2020/12\n",
       "DPS  2994.00\n",
       "PER    21.09\n",
       "PBR     2.06"
      ]
     },
     "execution_count": 42,
     "metadata": {},
     "output_type": "execute_result"
    }
   ],
   "source": [
    "df.filter(regex='2020')"
   ]
  },
  {
   "cell_type": "code",
   "execution_count": 43,
   "id": "a784d750-d713-41f5-bc62-0be3c2ba847f",
   "metadata": {},
   "outputs": [
    {
     "data": {
      "text/html": [
       "<div>\n",
       "<style scoped>\n",
       "    .dataframe tbody tr th:only-of-type {\n",
       "        vertical-align: middle;\n",
       "    }\n",
       "\n",
       "    .dataframe tbody tr th {\n",
       "        vertical-align: top;\n",
       "    }\n",
       "\n",
       "    .dataframe thead th {\n",
       "        text-align: right;\n",
       "    }\n",
       "</style>\n",
       "<table border=\"1\" class=\"dataframe\">\n",
       "  <thead>\n",
       "    <tr style=\"text-align: right;\">\n",
       "      <th></th>\n",
       "      <th>2018/12</th>\n",
       "      <th>2019/12</th>\n",
       "      <th>2020/12</th>\n",
       "      <th>2021/12(E)</th>\n",
       "    </tr>\n",
       "  </thead>\n",
       "  <tbody>\n",
       "    <tr>\n",
       "      <th>DPS</th>\n",
       "      <td>1416.00</td>\n",
       "      <td>1416.00</td>\n",
       "      <td>2994.00</td>\n",
       "      <td>1755.00</td>\n",
       "    </tr>\n",
       "    <tr>\n",
       "      <th>PER</th>\n",
       "      <td>6.42</td>\n",
       "      <td>17.63</td>\n",
       "      <td>21.09</td>\n",
       "      <td>13.93</td>\n",
       "    </tr>\n",
       "    <tr>\n",
       "      <th>PBR</th>\n",
       "      <td>1.10</td>\n",
       "      <td>1.49</td>\n",
       "      <td>2.06</td>\n",
       "      <td>1.88</td>\n",
       "    </tr>\n",
       "  </tbody>\n",
       "</table>\n",
       "</div>"
      ],
      "text/plain": [
       "     2018/12  2019/12  2020/12  2021/12(E)\n",
       "DPS  1416.00  1416.00  2994.00     1755.00\n",
       "PER     6.42    17.63    21.09       13.93\n",
       "PBR     1.10     1.49     2.06        1.88"
      ]
     },
     "execution_count": 43,
     "metadata": {},
     "output_type": "execute_result"
    }
   ],
   "source": [
    "df.filter(regex='20')"
   ]
  },
  {
   "cell_type": "code",
   "execution_count": 45,
   "id": "2eec9eb0-9c75-4fda-a8a1-2093da58275e",
   "metadata": {},
   "outputs": [
    {
     "data": {
      "text/html": [
       "<div>\n",
       "<style scoped>\n",
       "    .dataframe tbody tr th:only-of-type {\n",
       "        vertical-align: middle;\n",
       "    }\n",
       "\n",
       "    .dataframe tbody tr th {\n",
       "        vertical-align: top;\n",
       "    }\n",
       "\n",
       "    .dataframe thead th {\n",
       "        text-align: right;\n",
       "    }\n",
       "</style>\n",
       "<table border=\"1\" class=\"dataframe\">\n",
       "  <thead>\n",
       "    <tr style=\"text-align: right;\">\n",
       "      <th></th>\n",
       "      <th>2018/12</th>\n",
       "      <th>2019/12</th>\n",
       "      <th>2020/12</th>\n",
       "      <th>2021/12(E)</th>\n",
       "    </tr>\n",
       "  </thead>\n",
       "  <tbody>\n",
       "    <tr>\n",
       "      <th>PER</th>\n",
       "      <td>6.42</td>\n",
       "      <td>17.63</td>\n",
       "      <td>21.09</td>\n",
       "      <td>13.93</td>\n",
       "    </tr>\n",
       "    <tr>\n",
       "      <th>PBR</th>\n",
       "      <td>1.10</td>\n",
       "      <td>1.49</td>\n",
       "      <td>2.06</td>\n",
       "      <td>1.88</td>\n",
       "    </tr>\n",
       "  </tbody>\n",
       "</table>\n",
       "</div>"
      ],
      "text/plain": [
       "     2018/12  2019/12  2020/12  2021/12(E)\n",
       "PER     6.42    17.63    21.09       13.93\n",
       "PBR     1.10     1.49     2.06        1.88"
      ]
     },
     "execution_count": 45,
     "metadata": {},
     "output_type": "execute_result"
    }
   ],
   "source": [
    "# 행 조회할 건데, R 들어간 것만 조회\n",
    "df.filter(regex='R', axis=0)"
   ]
  },
  {
   "cell_type": "code",
   "execution_count": 46,
   "id": "f86fde77-4f6d-43e9-bcc7-fd6729c6d1a1",
   "metadata": {},
   "outputs": [
    {
     "data": {
      "text/html": [
       "<div>\n",
       "<style scoped>\n",
       "    .dataframe tbody tr th:only-of-type {\n",
       "        vertical-align: middle;\n",
       "    }\n",
       "\n",
       "    .dataframe tbody tr th {\n",
       "        vertical-align: top;\n",
       "    }\n",
       "\n",
       "    .dataframe thead th {\n",
       "        text-align: right;\n",
       "    }\n",
       "</style>\n",
       "<table border=\"1\" class=\"dataframe\">\n",
       "  <thead>\n",
       "    <tr style=\"text-align: right;\">\n",
       "      <th></th>\n",
       "      <th>2018/12</th>\n",
       "      <th>2019/12</th>\n",
       "      <th>2020/12</th>\n",
       "      <th>2021/12(E)</th>\n",
       "    </tr>\n",
       "  </thead>\n",
       "  <tbody>\n",
       "    <tr>\n",
       "      <th>DPS</th>\n",
       "      <td>1416.0</td>\n",
       "      <td>1416.0</td>\n",
       "      <td>2994.0</td>\n",
       "      <td>1755.0</td>\n",
       "    </tr>\n",
       "  </tbody>\n",
       "</table>\n",
       "</div>"
      ],
      "text/plain": [
       "     2018/12  2019/12  2020/12  2021/12(E)\n",
       "DPS   1416.0   1416.0   2994.0      1755.0"
      ]
     },
     "execution_count": 46,
     "metadata": {},
     "output_type": "execute_result"
    }
   ],
   "source": [
    "df.filter(regex='S', axis=0)"
   ]
  },
  {
   "cell_type": "code",
   "execution_count": 47,
   "id": "789b1bbb-daa6-4563-9df2-effadc2191e4",
   "metadata": {},
   "outputs": [
    {
     "data": {
      "text/html": [
       "<div>\n",
       "<style scoped>\n",
       "    .dataframe tbody tr th:only-of-type {\n",
       "        vertical-align: middle;\n",
       "    }\n",
       "\n",
       "    .dataframe tbody tr th {\n",
       "        vertical-align: top;\n",
       "    }\n",
       "\n",
       "    .dataframe thead th {\n",
       "        text-align: right;\n",
       "    }\n",
       "</style>\n",
       "<table border=\"1\" class=\"dataframe\">\n",
       "  <thead>\n",
       "    <tr style=\"text-align: right;\">\n",
       "      <th></th>\n",
       "      <th>2018/12</th>\n",
       "      <th>2019/12</th>\n",
       "      <th>2020/12</th>\n",
       "      <th>2021/12(E)</th>\n",
       "    </tr>\n",
       "  </thead>\n",
       "  <tbody>\n",
       "    <tr>\n",
       "      <th>PER</th>\n",
       "      <td>6.42</td>\n",
       "      <td>17.63</td>\n",
       "      <td>21.09</td>\n",
       "      <td>13.93</td>\n",
       "    </tr>\n",
       "    <tr>\n",
       "      <th>PBR</th>\n",
       "      <td>1.10</td>\n",
       "      <td>1.49</td>\n",
       "      <td>2.06</td>\n",
       "      <td>1.88</td>\n",
       "    </tr>\n",
       "  </tbody>\n",
       "</table>\n",
       "</div>"
      ],
      "text/plain": [
       "     2018/12  2019/12  2020/12  2021/12(E)\n",
       "PER     6.42    17.63    21.09       13.93\n",
       "PBR     1.10     1.49     2.06        1.88"
      ]
     },
     "execution_count": 47,
     "metadata": {},
     "output_type": "execute_result"
    }
   ],
   "source": [
    "# 행을 조회할 건데, R로 끝나는 모든 패턴을 조회\n",
    "df.filter(regex='R$', axis = 0)"
   ]
  },
  {
   "cell_type": "markdown",
   "id": "66aa20c3-472a-46f2-a669-afa0a33b9779",
   "metadata": {},
   "source": [
    "# 정렬하기"
   ]
  },
  {
   "cell_type": "markdown",
   "id": "286412dc-280a-408a-851d-f98d5d9596b6",
   "metadata": {},
   "source": [
    "## .set_index로 한 컬럼 인덱스로 지정하기\n",
    "- inplace=True는 원본 데이터를 직접 수정하며, 새로운 변수 할당이 필요 없음.\n",
    "- inplace=False(기본값)는 수정된 새로운 DataFrame을 반환하며, 원본은 그대로 유지됨. 새로운 결과를 저장하고 싶다면 변수를 지정해야 함."
   ]
  },
  {
   "cell_type": "code",
   "execution_count": 48,
   "id": "de9b6e6c-33d2-41a6-978e-9570f73b6464",
   "metadata": {},
   "outputs": [
    {
     "name": "stdout",
     "output_type": "stream",
     "text": [
      "          종목명   현재가\n",
      "종목코드               \n",
      "037730     3R  1510\n",
      "036360  3SOFT  1790\n",
      "005670   ACTS  1185\n"
     ]
    }
   ],
   "source": [
    "data = [\n",
    "    [\"037730\", \"3R\", 1510],\n",
    "    [\"036360\", \"3SOFT\", 1790],\n",
    "    [\"005670\", \"ACTS\", 1185]\n",
    "]\n",
    "\n",
    "columns = [\"종목코드\", \"종목명\", \"현재가\"]\n",
    "df = DataFrame(data=data, columns=columns)\n",
    "df.set_index(\"종목코드\", inplace=True)\n",
    "print(df)"
   ]
  },
  {
   "cell_type": "markdown",
   "id": "3a08ed79-a46f-41b3-9d5f-c804830b28fd",
   "metadata": {},
   "source": [
    "## .sort_values"
   ]
  },
  {
   "cell_type": "code",
   "execution_count": 49,
   "id": "3eb13014-b408-4a56-8f3c-9283ab7283b6",
   "metadata": {},
   "outputs": [
    {
     "name": "stdout",
     "output_type": "stream",
     "text": [
      "          종목명   현재가\n",
      "종목코드               \n",
      "005670   ACTS  1185\n",
      "037730     3R  1510\n",
      "036360  3SOFT  1790\n"
     ]
    }
   ],
   "source": [
    "# 컬럼 '현재가' 기준으로 정렬\n",
    "df.sort_values(by='현재가')\n",
    "print(df.sort_values(by='현재가'))"
   ]
  },
  {
   "cell_type": "markdown",
   "id": "6639acee-7f1e-4da6-a0f8-18b16ba03569",
   "metadata": {},
   "source": [
    "## ,ascendig=False : 내림차순\n",
    "- =True 가 기본값 : 오름차순\n",
    "- =False : 내림차순"
   ]
  },
  {
   "cell_type": "code",
   "execution_count": 51,
   "id": "32e0af3c-c843-4c75-88d4-7aac673bf91b",
   "metadata": {},
   "outputs": [
    {
     "data": {
      "text/html": [
       "<div>\n",
       "<style scoped>\n",
       "    .dataframe tbody tr th:only-of-type {\n",
       "        vertical-align: middle;\n",
       "    }\n",
       "\n",
       "    .dataframe tbody tr th {\n",
       "        vertical-align: top;\n",
       "    }\n",
       "\n",
       "    .dataframe thead th {\n",
       "        text-align: right;\n",
       "    }\n",
       "</style>\n",
       "<table border=\"1\" class=\"dataframe\">\n",
       "  <thead>\n",
       "    <tr style=\"text-align: right;\">\n",
       "      <th></th>\n",
       "      <th>종목명</th>\n",
       "      <th>현재가</th>\n",
       "    </tr>\n",
       "    <tr>\n",
       "      <th>종목코드</th>\n",
       "      <th></th>\n",
       "      <th></th>\n",
       "    </tr>\n",
       "  </thead>\n",
       "  <tbody>\n",
       "    <tr>\n",
       "      <th>036360</th>\n",
       "      <td>3SOFT</td>\n",
       "      <td>1790</td>\n",
       "    </tr>\n",
       "    <tr>\n",
       "      <th>037730</th>\n",
       "      <td>3R</td>\n",
       "      <td>1510</td>\n",
       "    </tr>\n",
       "    <tr>\n",
       "      <th>005670</th>\n",
       "      <td>ACTS</td>\n",
       "      <td>1185</td>\n",
       "    </tr>\n",
       "  </tbody>\n",
       "</table>\n",
       "</div>"
      ],
      "text/plain": [
       "          종목명   현재가\n",
       "종목코드               \n",
       "036360  3SOFT  1790\n",
       "037730     3R  1510\n",
       "005670   ACTS  1185"
      ]
     },
     "execution_count": 51,
     "metadata": {},
     "output_type": "execute_result"
    }
   ],
   "source": [
    "df.sort_values(by='현재가',ascending=False)"
   ]
  },
  {
   "cell_type": "code",
   "execution_count": 52,
   "id": "bf5c5c8e-c7e8-40b3-8377-a101830b7116",
   "metadata": {},
   "outputs": [
    {
     "data": {
      "text/html": [
       "<div>\n",
       "<style scoped>\n",
       "    .dataframe tbody tr th:only-of-type {\n",
       "        vertical-align: middle;\n",
       "    }\n",
       "\n",
       "    .dataframe tbody tr th {\n",
       "        vertical-align: top;\n",
       "    }\n",
       "\n",
       "    .dataframe thead th {\n",
       "        text-align: right;\n",
       "    }\n",
       "</style>\n",
       "<table border=\"1\" class=\"dataframe\">\n",
       "  <thead>\n",
       "    <tr style=\"text-align: right;\">\n",
       "      <th></th>\n",
       "      <th>종목명</th>\n",
       "      <th>현재가</th>\n",
       "    </tr>\n",
       "    <tr>\n",
       "      <th>종목코드</th>\n",
       "      <th></th>\n",
       "      <th></th>\n",
       "    </tr>\n",
       "  </thead>\n",
       "  <tbody>\n",
       "    <tr>\n",
       "      <th>005670</th>\n",
       "      <td>ACTS</td>\n",
       "      <td>1185</td>\n",
       "    </tr>\n",
       "    <tr>\n",
       "      <th>036360</th>\n",
       "      <td>3SOFT</td>\n",
       "      <td>1790</td>\n",
       "    </tr>\n",
       "    <tr>\n",
       "      <th>037730</th>\n",
       "      <td>3R</td>\n",
       "      <td>1510</td>\n",
       "    </tr>\n",
       "  </tbody>\n",
       "</table>\n",
       "</div>"
      ],
      "text/plain": [
       "          종목명   현재가\n",
       "종목코드               \n",
       "005670   ACTS  1185\n",
       "036360  3SOFT  1790\n",
       "037730     3R  1510"
      ]
     },
     "execution_count": 52,
     "metadata": {},
     "output_type": "execute_result"
    }
   ],
   "source": [
    "df.sort_values(by='종목명',ascending=False)"
   ]
  },
  {
   "cell_type": "markdown",
   "id": "2409a3f8-5de1-486f-adb3-0ace81eedf72",
   "metadata": {},
   "source": [
    "## .sort_index()"
   ]
  },
  {
   "cell_type": "code",
   "execution_count": 53,
   "id": "88f2a6c9-bed2-4088-be16-24baff6579c1",
   "metadata": {},
   "outputs": [
    {
     "data": {
      "text/plain": [
       "Index(['037730', '036360', '005670'], dtype='object', name='종목코드')"
      ]
     },
     "execution_count": 53,
     "metadata": {},
     "output_type": "execute_result"
    }
   ],
   "source": [
    "df.index"
   ]
  },
  {
   "cell_type": "code",
   "execution_count": 57,
   "id": "d52f04fe-30c3-480b-a29a-9453d5d04cf6",
   "metadata": {},
   "outputs": [
    {
     "data": {
      "text/html": [
       "<div>\n",
       "<style scoped>\n",
       "    .dataframe tbody tr th:only-of-type {\n",
       "        vertical-align: middle;\n",
       "    }\n",
       "\n",
       "    .dataframe tbody tr th {\n",
       "        vertical-align: top;\n",
       "    }\n",
       "\n",
       "    .dataframe thead th {\n",
       "        text-align: right;\n",
       "    }\n",
       "</style>\n",
       "<table border=\"1\" class=\"dataframe\">\n",
       "  <thead>\n",
       "    <tr style=\"text-align: right;\">\n",
       "      <th></th>\n",
       "      <th>종목명</th>\n",
       "      <th>현재가</th>\n",
       "    </tr>\n",
       "    <tr>\n",
       "      <th>종목코드</th>\n",
       "      <th></th>\n",
       "      <th></th>\n",
       "    </tr>\n",
       "  </thead>\n",
       "  <tbody>\n",
       "    <tr>\n",
       "      <th>005670</th>\n",
       "      <td>ACTS</td>\n",
       "      <td>1185</td>\n",
       "    </tr>\n",
       "    <tr>\n",
       "      <th>036360</th>\n",
       "      <td>3SOFT</td>\n",
       "      <td>1790</td>\n",
       "    </tr>\n",
       "    <tr>\n",
       "      <th>037730</th>\n",
       "      <td>3R</td>\n",
       "      <td>1510</td>\n",
       "    </tr>\n",
       "  </tbody>\n",
       "</table>\n",
       "</div>"
      ],
      "text/plain": [
       "          종목명   현재가\n",
       "종목코드               \n",
       "005670   ACTS  1185\n",
       "036360  3SOFT  1790\n",
       "037730     3R  1510"
      ]
     },
     "execution_count": 57,
     "metadata": {},
     "output_type": "execute_result"
    }
   ],
   "source": [
    "# 기본: 인덱스 기준\n",
    "df.sort_index()"
   ]
  },
  {
   "cell_type": "code",
   "execution_count": 58,
   "id": "7c4bd4d9-e3d5-42fc-8499-a6ab38e4d3f0",
   "metadata": {},
   "outputs": [
    {
     "data": {
      "text/html": [
       "<div>\n",
       "<style scoped>\n",
       "    .dataframe tbody tr th:only-of-type {\n",
       "        vertical-align: middle;\n",
       "    }\n",
       "\n",
       "    .dataframe tbody tr th {\n",
       "        vertical-align: top;\n",
       "    }\n",
       "\n",
       "    .dataframe thead th {\n",
       "        text-align: right;\n",
       "    }\n",
       "</style>\n",
       "<table border=\"1\" class=\"dataframe\">\n",
       "  <thead>\n",
       "    <tr style=\"text-align: right;\">\n",
       "      <th></th>\n",
       "      <th>종목명</th>\n",
       "      <th>현재가</th>\n",
       "    </tr>\n",
       "    <tr>\n",
       "      <th>종목코드</th>\n",
       "      <th></th>\n",
       "      <th></th>\n",
       "    </tr>\n",
       "  </thead>\n",
       "  <tbody>\n",
       "    <tr>\n",
       "      <th>037730</th>\n",
       "      <td>3R</td>\n",
       "      <td>1510</td>\n",
       "    </tr>\n",
       "    <tr>\n",
       "      <th>036360</th>\n",
       "      <td>3SOFT</td>\n",
       "      <td>1790</td>\n",
       "    </tr>\n",
       "    <tr>\n",
       "      <th>005670</th>\n",
       "      <td>ACTS</td>\n",
       "      <td>1185</td>\n",
       "    </tr>\n",
       "  </tbody>\n",
       "</table>\n",
       "</div>"
      ],
      "text/plain": [
       "          종목명   현재가\n",
       "종목코드               \n",
       "037730     3R  1510\n",
       "036360  3SOFT  1790\n",
       "005670   ACTS  1185"
      ]
     },
     "execution_count": 58,
     "metadata": {},
     "output_type": "execute_result"
    }
   ],
   "source": [
    "# ascending=False : 인덱스 기준 역순\n",
    "df.sort_index(ascending=False)"
   ]
  },
  {
   "cell_type": "markdown",
   "id": "b5066cce-82d3-4b3c-8587-e16df358865b",
   "metadata": {},
   "source": [
    "# 인덱스 연산 (.Index)\n",
    "- 집합 연산 개념\n",
    "- 데이터 병합할 때 사용"
   ]
  },
  {
   "cell_type": "markdown",
   "id": "237f1ac3-ad5f-47fc-b317-5cade1927319",
   "metadata": {},
   "source": [
    "## union: 합집합"
   ]
  },
  {
   "cell_type": "markdown",
   "id": "a8464fe5-df9b-44f2-9991-0753707cf4d0",
   "metadata": {},
   "source": [
    "idx1 = pd.Index([1, 2, 3])\n",
    "idx2 = pd.Index([4, 2, 3])\n",
    "idx1.union(idx2)"
   ]
  },
  {
   "cell_type": "markdown",
   "id": "c2a123f4-8120-4ce0-b99f-23a87e85d5fe",
   "metadata": {},
   "source": [
    "## intersection: 교집합"
   ]
  },
  {
   "cell_type": "code",
   "execution_count": 61,
   "id": "c1102126-6770-4999-a7b3-84084824cfaf",
   "metadata": {},
   "outputs": [
    {
     "data": {
      "text/plain": [
       "Index([2, 3], dtype='int64')"
      ]
     },
     "execution_count": 61,
     "metadata": {},
     "output_type": "execute_result"
    }
   ],
   "source": [
    "idx1.intersection(idx2)"
   ]
  },
  {
   "cell_type": "markdown",
   "id": "fb02dd01-8aab-415f-a6e5-64517fac1be1",
   "metadata": {},
   "source": [
    "## difference: 차집합"
   ]
  },
  {
   "cell_type": "code",
   "execution_count": 62,
   "id": "12e0d10b-533d-4216-b8e3-eba82c478cb0",
   "metadata": {},
   "outputs": [
    {
     "data": {
      "text/plain": [
       "Index([1], dtype='int64')"
      ]
     },
     "execution_count": 62,
     "metadata": {},
     "output_type": "execute_result"
    }
   ],
   "source": [
    "idx1.difference(idx2)"
   ]
  },
  {
   "cell_type": "markdown",
   "id": "6eb73465-e18b-43be-a0ce-d5c0773fabec",
   "metadata": {},
   "source": [
    "# Groupby 연산\n",
    "- 연습할 것: https://pandas.pydata.org/docs/user_guide/groupby.html"
   ]
  },
  {
   "cell_type": "code",
   "execution_count": 63,
   "id": "784add21-25fa-4c68-9051-06ad31c66829",
   "metadata": {},
   "outputs": [
    {
     "data": {
      "text/html": [
       "<div>\n",
       "<style scoped>\n",
       "    .dataframe tbody tr th:only-of-type {\n",
       "        vertical-align: middle;\n",
       "    }\n",
       "\n",
       "    .dataframe tbody tr th {\n",
       "        vertical-align: top;\n",
       "    }\n",
       "\n",
       "    .dataframe thead th {\n",
       "        text-align: right;\n",
       "    }\n",
       "</style>\n",
       "<table border=\"1\" class=\"dataframe\">\n",
       "  <thead>\n",
       "    <tr style=\"text-align: right;\">\n",
       "      <th></th>\n",
       "      <th>테마</th>\n",
       "      <th>종목명</th>\n",
       "      <th>PER</th>\n",
       "      <th>PBR</th>\n",
       "    </tr>\n",
       "  </thead>\n",
       "  <tbody>\n",
       "    <tr>\n",
       "      <th>0</th>\n",
       "      <td>2차전지(생산)</td>\n",
       "      <td>SK이노베이션</td>\n",
       "      <td>10.19</td>\n",
       "      <td>1.29</td>\n",
       "    </tr>\n",
       "    <tr>\n",
       "      <th>1</th>\n",
       "      <td>해운</td>\n",
       "      <td>팬오션</td>\n",
       "      <td>21.23</td>\n",
       "      <td>0.95</td>\n",
       "    </tr>\n",
       "    <tr>\n",
       "      <th>2</th>\n",
       "      <td>시스템반도체</td>\n",
       "      <td>티엘아이</td>\n",
       "      <td>35.97</td>\n",
       "      <td>1.12</td>\n",
       "    </tr>\n",
       "    <tr>\n",
       "      <th>3</th>\n",
       "      <td>해운</td>\n",
       "      <td>HMM</td>\n",
       "      <td>21.52</td>\n",
       "      <td>3.20</td>\n",
       "    </tr>\n",
       "    <tr>\n",
       "      <th>4</th>\n",
       "      <td>시스템반도체</td>\n",
       "      <td>아이에이</td>\n",
       "      <td>37.32</td>\n",
       "      <td>3.55</td>\n",
       "    </tr>\n",
       "    <tr>\n",
       "      <th>5</th>\n",
       "      <td>2차전지(생산)</td>\n",
       "      <td>LG화학</td>\n",
       "      <td>83.06</td>\n",
       "      <td>3.75</td>\n",
       "    </tr>\n",
       "  </tbody>\n",
       "</table>\n",
       "</div>"
      ],
      "text/plain": [
       "         테마      종목명    PER   PBR\n",
       "0  2차전지(생산)  SK이노베이션  10.19  1.29\n",
       "1        해운      팬오션  21.23  0.95\n",
       "2    시스템반도체     티엘아이  35.97  1.12\n",
       "3        해운      HMM  21.52  3.20\n",
       "4    시스템반도체     아이에이  37.32  3.55\n",
       "5  2차전지(생산)     LG화학  83.06  3.75"
      ]
     },
     "execution_count": 63,
     "metadata": {},
     "output_type": "execute_result"
    }
   ],
   "source": [
    "data = [\n",
    "    [\"2차전지(생산)\", \"SK이노베이션\", 10.19, 1.29],\n",
    "    [\"해운\", \"팬오션\", 21.23, 0.95],\n",
    "    [\"시스템반도체\", \"티엘아이\", 35.97, 1.12],\n",
    "    [\"해운\", \"HMM\", 21.52, 3.20],\n",
    "    [\"시스템반도체\", \"아이에이\", 37.32, 3.55],\n",
    "    [\"2차전지(생산)\", \"LG화학\", 83.06, 3.75]\n",
    "]\n",
    "\n",
    "columns = [\"테마\", \"종목명\", \"PER\", \"PBR\"]\n",
    "df = DataFrame(data=data, columns=columns)\n",
    "df"
   ]
  },
  {
   "cell_type": "code",
   "execution_count": 64,
   "id": "c20265ec-f196-4282-ac5a-1ec223c749a5",
   "metadata": {},
   "outputs": [
    {
     "name": "stdout",
     "output_type": "stream",
     "text": [
      "<pandas.core.groupby.generic.DataFrameGroupBy object at 0x000002939DDD5010>\n",
      "<class 'pandas.core.groupby.generic.DataFrameGroupBy'>\n"
     ]
    }
   ],
   "source": [
    "# groupby 해보기\n",
    "result = df.groupby(\"테마\")[[\"PER\",\"PBR\"]]\n",
    "print(result)\n",
    "print(type(result))"
   ]
  },
  {
   "cell_type": "markdown",
   "id": "3c9a97de-4b92-4362-9b0a-7a6544bdbff3",
   "metadata": {},
   "source": [
    "- 이 구문은 그룹화된 DataFrameGroupBy 객체를 반환합니다.\n",
    "- 아직 이 단계에서는 데이터를 연산하지 않았고, 이를 mean()나 sum() 같은 집계 함수로 계산할 수 있습니다."
   ]
  },
  {
   "cell_type": "code",
   "execution_count": 68,
   "id": "c3e346a6-cc7b-495d-bad5-1b6e81cca04b",
   "metadata": {},
   "outputs": [
    {
     "name": "stdout",
     "output_type": "stream",
     "text": [
      "<class 'pandas.core.frame.DataFrame'>\n"
     ]
    }
   ],
   "source": [
    "# group by 한 것을 집계 함수로 계산해보자\n",
    "result2 = df.groupby(\"테마\")[[\"PER\",\"PBR\"]].mean()\n",
    "print(type(result2))"
   ]
  },
  {
   "cell_type": "code",
   "execution_count": 69,
   "id": "40aba167-cfb3-4030-8d1b-0f48259f2e6b",
   "metadata": {},
   "outputs": [
    {
     "data": {
      "text/html": [
       "<div>\n",
       "<style scoped>\n",
       "    .dataframe tbody tr th:only-of-type {\n",
       "        vertical-align: middle;\n",
       "    }\n",
       "\n",
       "    .dataframe tbody tr th {\n",
       "        vertical-align: top;\n",
       "    }\n",
       "\n",
       "    .dataframe thead th {\n",
       "        text-align: right;\n",
       "    }\n",
       "</style>\n",
       "<table border=\"1\" class=\"dataframe\">\n",
       "  <thead>\n",
       "    <tr style=\"text-align: right;\">\n",
       "      <th></th>\n",
       "      <th>PER</th>\n",
       "      <th>PBR</th>\n",
       "    </tr>\n",
       "    <tr>\n",
       "      <th>테마</th>\n",
       "      <th></th>\n",
       "      <th></th>\n",
       "    </tr>\n",
       "  </thead>\n",
       "  <tbody>\n",
       "    <tr>\n",
       "      <th>2차전지(생산)</th>\n",
       "      <td>46.625</td>\n",
       "      <td>2.520</td>\n",
       "    </tr>\n",
       "    <tr>\n",
       "      <th>시스템반도체</th>\n",
       "      <td>36.645</td>\n",
       "      <td>2.335</td>\n",
       "    </tr>\n",
       "    <tr>\n",
       "      <th>해운</th>\n",
       "      <td>21.375</td>\n",
       "      <td>2.075</td>\n",
       "    </tr>\n",
       "  </tbody>\n",
       "</table>\n",
       "</div>"
      ],
      "text/plain": [
       "             PER    PBR\n",
       "테마                     \n",
       "2차전지(생산)  46.625  2.520\n",
       "시스템반도체    36.645  2.335\n",
       "해운        21.375  2.075"
      ]
     },
     "execution_count": 69,
     "metadata": {},
     "output_type": "execute_result"
    }
   ],
   "source": [
    "result2"
   ]
  },
  {
   "cell_type": "code",
   "execution_count": null,
   "id": "c1f7a8c3-f939-4313-a672-823acacffe51",
   "metadata": {},
   "outputs": [],
   "source": []
  },
  {
   "cell_type": "code",
   "execution_count": null,
   "id": "9f8f8ab6-01ba-4072-997e-a3d0d1a0c673",
   "metadata": {},
   "outputs": [],
   "source": []
  },
  {
   "cell_type": "code",
   "execution_count": null,
   "id": "97a8a715-e8d4-43fe-b461-ed2053519e9c",
   "metadata": {},
   "outputs": [],
   "source": []
  },
  {
   "cell_type": "code",
   "execution_count": null,
   "id": "eaa024ae-e34a-4d3b-82d2-3eaa93ce5ecc",
   "metadata": {},
   "outputs": [],
   "source": []
  },
  {
   "cell_type": "code",
   "execution_count": null,
   "id": "cdedf29c-dd3d-4b83-929f-f2015ce965a5",
   "metadata": {},
   "outputs": [],
   "source": []
  },
  {
   "cell_type": "code",
   "execution_count": null,
   "id": "6adb16e2-203b-457a-b523-ce42b4947c72",
   "metadata": {},
   "outputs": [],
   "source": []
  },
  {
   "cell_type": "code",
   "execution_count": null,
   "id": "b5e5a261-f3c6-415f-8b96-5071a4ae9367",
   "metadata": {},
   "outputs": [],
   "source": []
  }
 ],
 "metadata": {
  "kernelspec": {
   "display_name": "Python 3 (ipykernel)",
   "language": "python",
   "name": "python3"
  },
  "language_info": {
   "codemirror_mode": {
    "name": "ipython",
    "version": 3
   },
   "file_extension": ".py",
   "mimetype": "text/x-python",
   "name": "python",
   "nbconvert_exporter": "python",
   "pygments_lexer": "ipython3",
   "version": "3.12.6"
  }
 },
 "nbformat": 4,
 "nbformat_minor": 5
}
