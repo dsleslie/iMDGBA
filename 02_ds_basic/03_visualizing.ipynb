{
 "cells": [
  {
   "cell_type": "code",
   "execution_count": 5,
   "id": "66122282-030c-4d08-b502-40301e963275",
   "metadata": {},
   "outputs": [
    {
     "ename": "ModuleNotFoundError",
     "evalue": "No module named 'yfinance'",
     "output_type": "error",
     "traceback": [
      "\u001b[1;31m---------------------------------------------------------------------------\u001b[0m",
      "\u001b[1;31mModuleNotFoundError\u001b[0m                       Traceback (most recent call last)",
      "Cell \u001b[1;32mIn[5], line 6\u001b[0m\n\u001b[0;32m      4\u001b[0m \u001b[38;5;28;01mimport\u001b[39;00m \u001b[38;5;21;01mmatplotlib\u001b[39;00m\u001b[38;5;21;01m.\u001b[39;00m\u001b[38;5;21;01mpyplot\u001b[39;00m \u001b[38;5;28;01mas\u001b[39;00m \u001b[38;5;21;01mplt\u001b[39;00m\n\u001b[0;32m      5\u001b[0m get_ipython()\u001b[38;5;241m.\u001b[39mrun_line_magic(\u001b[38;5;124m'\u001b[39m\u001b[38;5;124mmatplotlib\u001b[39m\u001b[38;5;124m'\u001b[39m, \u001b[38;5;124m'\u001b[39m\u001b[38;5;124minline\u001b[39m\u001b[38;5;124m'\u001b[39m)\n\u001b[1;32m----> 6\u001b[0m \u001b[38;5;28;01mimport\u001b[39;00m \u001b[38;5;21;01myfinance\u001b[39;00m \u001b[38;5;28;01mas\u001b[39;00m \u001b[38;5;21;01myf\u001b[39;00m\n\u001b[0;32m      7\u001b[0m \u001b[38;5;66;03m# pip install yfinance --upgrade --no-cache-dir <- 이거 bash terminal 에서 실행\u001b[39;00m\n\u001b[0;32m      8\u001b[0m \u001b[38;5;28;01mfrom\u001b[39;00m \u001b[38;5;21;01mpandas\u001b[39;00m \u001b[38;5;28;01mimport\u001b[39;00m DataFrame\n",
      "\u001b[1;31mModuleNotFoundError\u001b[0m: No module named 'yfinance'"
     ]
    }
   ],
   "source": [
    "import pandas as pd\n",
    "import numpy as np\n",
    "import seaborn as sns\n",
    "import matplotlib.pyplot as plt\n",
    "%matplotlib inline\n",
    "import yfinance as yf\n",
    "# pip install yfinance --upgrade --no-cache-dir <- 이거 bash terminal 에서 실행\n",
    "from pandas import DataFrame"
   ]
  },
  {
   "cell_type": "markdown",
   "id": "ab94de07-b673-486e-808e-4d07dea146d1",
   "metadata": {},
   "source": [
    "# 데이터 불러오기"
   ]
  },
  {
   "cell_type": "code",
   "execution_count": null,
   "id": "a1b01876-1706-4463-b142-759b2a630aa0",
   "metadata": {},
   "outputs": [],
   "source": [
    "estate=pd.read_csv(\"c:/Archiving/IMDGB/step02_ds_basic/dataset/seoul_real_estate.csv\")\n",
    "estate.head()"
   ]
  },
  {
   "cell_type": "markdown",
   "id": "d94b6ee8-eddb-41e4-a499-83d454d65a6c",
   "metadata": {},
   "source": [
    "# 데이터 타입 변환 (object to int)\n",
    "- 사용자 정의 함수로 하려 한다.\n",
    "- 곧바로 쓰지말고, 먼저 하나만 int로 바꾸는 함수를 써서 확인하고, 나오면 사용자 정의 함수로 선언하자"
   ]
  },
  {
   "cell_type": "code",
   "execution_count": null,
   "id": "f07ed260-37aa-4415-9270-31c95bc2ea6c",
   "metadata": {},
   "outputs": [],
   "source": [
    "# 03/02 , 03/03 컬럼만 int 형으로 변경\n",
    "# 데이터프레임 생성\n",
    "data = [\n",
    "    [\"1,000\", \"1,100\", '1,510'],\n",
    "    [\"1,410\", \"1,420\", '1,790'],\n",
    "    [\"850\", \"900\", '1,185'],\n",
    "]\n",
    "columns = [\"03/02\", \"03/03\", \"03/04\"]\n",
    "df = pd.DataFrame(data=data, columns=columns)\n",
    "df.info()"
   ]
  },
  {
   "cell_type": "code",
   "execution_count": null,
   "id": "6e1d209e-5297-4e6c-806c-8be6891cb094",
   "metadata": {},
   "outputs": [],
   "source": [
    "x = \"1,000\" # 애를 먼저 int로 바꿔보자\n",
    "x.replace(\",\" ,\"\") # 먼저 콤마를 지운다."
   ]
  },
  {
   "cell_type": "code",
   "execution_count": null,
   "id": "7dcfd18e-fe98-44a0-a0d3-3cd4b238df15",
   "metadata": {},
   "outputs": [],
   "source": [
    "int(x.replace(\",\",\"\")) # 타입 변환, int로 변경된 것이 확인되면 사용자 정의 함수로 사용ㄱ"
   ]
  },
  {
   "cell_type": "code",
   "execution_count": null,
   "id": "9b900691-c3f9-405f-b085-3981c579f15c",
   "metadata": {},
   "outputs": [],
   "source": [
    "# 사용자 정의 함수\n",
    "def rm_comma(x):\n",
    "    return int(x.replace(\",\",\"\"))\n",
    "\n",
    "# 사용자 정의 함수 잘 돌아가는 지 확인\n",
    "y = \"1,000\"\n",
    "print(rm_comma(y))"
   ]
  },
  {
   "cell_type": "code",
   "execution_count": null,
   "id": "36e273bb-a201-4cb0-a650-7dc7d2abdbe2",
   "metadata": {},
   "outputs": [],
   "source": [
    "df[\"03/02\"] = df[\"03/02\"].apply(rm_comma)\n",
    "df[\"03/03\"] = df[\"03/03\"].apply(rm_comma)\n",
    "df.info()"
   ]
  },
  {
   "cell_type": "code",
   "execution_count": null,
   "id": "29b73d2f-19c9-4460-b8ae-703ec1d1855e",
   "metadata": {},
   "outputs": [],
   "source": [
    "# sol2 / methods 활용\n",
    "data = [\n",
    "    [\"1,000\", \"1,100\", '1,510'],\n",
    "    [\"1,410\", \"1,420\", '1,790'],\n",
    "    [\"850\", \"900\", '1,185'],\n",
    "]\n",
    "columns = [\"03/02\", \"03/03\", \"03/04\"]\n",
    "df = DataFrame(data=data, columns=columns) \n",
    "df2 = df.copy()\n",
    "df2['03/02'] = df2['03/02'].str.replace(',', '').astype(int)\n",
    "df2['03/03'] = df2['03/03'].str.replace(',', '').astype(int)\n",
    "df2.info()"
   ]
  },
  {
   "cell_type": "markdown",
   "id": "a95f5f0d-5fb5-4e9d-aec1-3f467b0a197f",
   "metadata": {},
   "source": [
    "# 데이터 시각화 1"
   ]
  },
  {
   "cell_type": "code",
   "execution_count": null,
   "id": "3e106e62-e305-4513-a461-75914a9bc5c9",
   "metadata": {},
   "outputs": [],
   "source": [
    "sns.__version__ "
   ]
  },
  {
   "cell_type": "code",
   "execution_count": null,
   "id": "e0651fae-5d9c-4e2c-97c5-060e6d60c827",
   "metadata": {},
   "outputs": [],
   "source": [
    "dates = [\n",
    "    '2021-01-01', '2021-01-02', '2021-01-03', '2021-01-04', '2021-01-05',\n",
    "    '2021-01-06', '2021-01-07', '2021-01-08', '2021-01-09', '2021-01-10'\n",
    "] \n",
    "# 지금 자료형이 list임. matpolitlib은 기본적으로 list를 받음. dataframe으로 작업하던 걸 list로 변환해야함. \n",
    "min_temperature = [20.7, 17.9, 18.8, 14.6, 15.8, 15.8, 15.8, 17.4, 21.8, 20.0]\n",
    "max_temperature = [34.7, 28.9, 31.8, 25.6, 28.8, 21.8, 22.8, 28.4, 30.8, 32.0]\n",
    "\n",
    "\n",
    "fig, ax = plt.subplots(nrows = 1, ncols = 1, figsize=(10, 6))\n",
    "ax.plot(dates, min_temperature, label = \"Min Temp\")\n",
    "ax.plot(dates, max_temperature, label = \"Max Temp\")\n",
    "ax.legend()\n",
    "plt.show()"
   ]
  },
  {
   "cell_type": "code",
   "execution_count": null,
   "id": "4cf2f088-3a63-4218-a7b4-6382cad8e546",
   "metadata": {},
   "outputs": [],
   "source": [
    "# Figure (차트사이즈)\n",
    "# Axes (그래프 라인들 의미함 <- 이해 어렵)\n",
    "print(fig)\n",
    "print(ax)"
   ]
  },
  {
   "cell_type": "markdown",
   "id": "d4f29c91-24a0-4c1c-91bc-4bb8b52fd5d4",
   "metadata": {},
   "source": [
    "# 데이터 시각화 2 | Yahoo API에서 무료 주식 데이터 가져오기\n",
    "- https://github.com/ranaroussi/yfinance"
   ]
  },
  {
   "cell_type": "code",
   "execution_count": null,
   "id": "e57aae8d-390f-415c-a96a-8581f8fe14bb",
   "metadata": {},
   "outputs": [],
   "source": [
    "# import yfinance as yf"
   ]
  },
  {
   "cell_type": "code",
   "execution_count": null,
   "id": "763de89e-549a-4fe6-ab4a-a0d25789e793",
   "metadata": {},
   "outputs": [],
   "source": [
    "apple = yf.download(\"AAPL\", start = \"2020-01-01\", end=\"2024-09-30\")\n",
    "nvidia = yf.download(\"NVDA\", start = \"2020-01-01\", end=\"2024-09-30\")\n",
    "intel = yf.download(\"INTC\", start=\"2020-01-01\", end = \"2024-09-30\")\n",
    "amazon = yf.download(\"AMZN\", start=\"2020-01-01\", end = \"2024-09-30\")"
   ]
  },
  {
   "cell_type": "markdown",
   "id": "66a7e3fd-f536-498e-aa74-b30d694effde",
   "metadata": {},
   "source": [
    "## matplotlib"
   ]
  },
  {
   "cell_type": "code",
   "execution_count": null,
   "id": "cf0e562a-60fb-49e2-a508-eba23939e0ad",
   "metadata": {},
   "outputs": [],
   "source": [
    "# 그래프 1\n",
    "fig, ax = plt.subplots()\n",
    "ax.plot(apple['Open'], label = 'apple')\n",
    "ax.plot(nvidia['Open'], label = 'nvidia')\n",
    "ax.set_title('Stocks')\n",
    "ax.legend()\n",
    "plt.show()"
   ]
  },
  {
   "cell_type": "code",
   "execution_count": null,
   "id": "caf58148-af10-4a55-9c3a-6771b1f7051b",
   "metadata": {},
   "outputs": [],
   "source": [
    "# 그래프 2\n",
    "\n",
    "fig, ax = plt.subplots(nrows=2, ncols=2, figsize=(10,4))\n",
    "# nrows, ncols로 그래프 몇개 생성할 지\n",
    "\n",
    "\n",
    "ax[0, 0].plot(apple['Open'], label = 'apple', color ='red')\n",
    "ax[0, 1].plot(nvidia['Open'], label = 'nvidia' , color='green')\n",
    "ax[1,0].plot(intel['Open'], label = 'intel', color ='blue')\n",
    "ax[1, 1].plot(amazon['Open'], label = 'amazon' , color='orange')\n",
    "\n",
    "ax[0, 0].set_title('Apple Stocks')\n",
    "ax[0, 1].set_title('Nvidia Stocks')\n",
    "ax[1, 0].set_title('Intel Stocks')\n",
    "ax[1, 1].set_title('Amazon Stocks')\n",
    "\n",
    "ax[0, 0].legend()\n",
    "ax[0, 1].legend()\n",
    "ax[1, 0].legend()\n",
    "ax[1, 1].legend()\n",
    "\n",
    "fig.tight_layout()\n",
    "\n",
    "ax[0, 0].grid()\n",
    "ax[0, 1].grid()\n",
    "ax[1, 0].grid()\n",
    "ax[1, 1].grid()\n",
    "plt.savefig('myStocks.png')\n",
    "plt.show()"
   ]
  },
  {
   "cell_type": "markdown",
   "id": "7de095e6-0701-46b7-8f10-9fa03aeaff70",
   "metadata": {},
   "source": [
    "## seaborn"
   ]
  },
  {
   "cell_type": "code",
   "execution_count": null,
   "id": "8c101311-81f5-47e1-99cb-6aa545513804",
   "metadata": {},
   "outputs": [],
   "source": [
    "sns.lineplot(apple['Open'])"
   ]
  },
  {
   "cell_type": "code",
   "execution_count": null,
   "id": "365555cc-a500-4ece-9541-5443369f60c6",
   "metadata": {},
   "outputs": [],
   "source": [
    "apple2=apple.reset_index()\n",
    "apple2.head()"
   ]
  },
  {
   "cell_type": "code",
   "execution_count": null,
   "id": "94193935-fd02-4ad2-9f1e-bc2108aeca44",
   "metadata": {},
   "outputs": [],
   "source": [
    "sns.lineplot(data=apple2['Open']) # 이렇게 하면 차트는 나오지만 날짜 안나옴\n",
    "plt.show()"
   ]
  },
  {
   "cell_type": "code",
   "execution_count": null,
   "id": "8531940a-f32b-44b9-8f13-49c5297b7031",
   "metadata": {},
   "outputs": [],
   "source": []
  },
  {
   "cell_type": "markdown",
   "id": "ac3f010d-7eef-4f7f-95df-8f9f7855ba43",
   "metadata": {},
   "source": [
    "# 연습문제 1\n",
    "## 자치구별 부동산 거래 건수 비교 (Bar Chart)\n",
    "- hint : matplotlib.pyplot.bar\n",
    "- SGG_NM을 기준으로 각 자치구별로 부동산 거래가 몇 건 이루어졌는지 bar 차트로 나타내세요. "
   ]
  },
  {
   "cell_type": "code",
   "execution_count": null,
   "id": "d4828b29-df06-45b3-a4cc-bf93bdbeda33",
   "metadata": {},
   "outputs": [],
   "source": [
    "estate.head()"
   ]
  },
  {
   "cell_type": "markdown",
   "id": "6b2f94c4-2b6c-45c6-bc19-a7d0c4afdc37",
   "metadata": {},
   "source": [
    "### matplotlib"
   ]
  },
  {
   "cell_type": "code",
   "execution_count": null,
   "id": "b2111115-4a83-4190-8565-fb6917f6edd5",
   "metadata": {},
   "outputs": [],
   "source": [
    "estate1=estate.copy()\n",
    "estate1.head()"
   ]
  },
  {
   "cell_type": "markdown",
   "id": "bfaa0d63-8973-45f7-9e41-5a34dcf0651d",
   "metadata": {},
   "source": [
    "### seaborn"
   ]
  },
  {
   "cell_type": "code",
   "execution_count": null,
   "id": "c83755e3-1aa8-4e9b-b577-eae554c2bc3e",
   "metadata": {},
   "outputs": [],
   "source": []
  },
  {
   "cell_type": "markdown",
   "id": "3f05e18d-6104-4110-918c-4c124278add9",
   "metadata": {},
   "source": [
    "## 건물 면적 대비 거래 가격 관계\n",
    "- BLDG_AREA와 OBJ_AMT 간의 관계를 산점도로 시각화하세요.\n",
    "- matplotlib.pyplot.scatter"
   ]
  },
  {
   "cell_type": "markdown",
   "id": "52aad52b-6f34-4758-afc2-d471e7a505c7",
   "metadata": {},
   "source": [
    "### matplotlib"
   ]
  },
  {
   "cell_type": "code",
   "execution_count": null,
   "id": "b5aebb6f-9eaf-4da7-8746-915547e76cbf",
   "metadata": {},
   "outputs": [],
   "source": []
  },
  {
   "cell_type": "code",
   "execution_count": null,
   "id": "010d46da-0ab7-4c2b-8741-011cea414232",
   "metadata": {},
   "outputs": [],
   "source": []
  },
  {
   "cell_type": "markdown",
   "id": "485983f5-92b8-4343-93c9-315416826d49",
   "metadata": {},
   "source": [
    "### seaborn"
   ]
  },
  {
   "cell_type": "code",
   "execution_count": null,
   "id": "2d6662bc-c8de-426a-85ba-f4eefd1c2f46",
   "metadata": {},
   "outputs": [],
   "source": []
  },
  {
   "cell_type": "code",
   "execution_count": null,
   "id": "87de8fb7-4fe5-4af1-bcc9-1da790dd6913",
   "metadata": {},
   "outputs": [],
   "source": []
  },
  {
   "cell_type": "code",
   "execution_count": null,
   "id": "61557d57-d4d2-46c0-85ad-3721602ab6fc",
   "metadata": {},
   "outputs": [],
   "source": []
  },
  {
   "cell_type": "code",
   "execution_count": null,
   "id": "56a442f7-6e33-4747-81e6-2ede24870241",
   "metadata": {},
   "outputs": [],
   "source": []
  }
 ],
 "metadata": {
  "kernelspec": {
   "display_name": "Python 3 (ipykernel)",
   "language": "python",
   "name": "python3"
  },
  "language_info": {
   "codemirror_mode": {
    "name": "ipython",
    "version": 3
   },
   "file_extension": ".py",
   "mimetype": "text/x-python",
   "name": "python",
   "nbconvert_exporter": "python",
   "pygments_lexer": "ipython3",
   "version": "3.12.6"
  }
 },
 "nbformat": 4,
 "nbformat_minor": 5
}
