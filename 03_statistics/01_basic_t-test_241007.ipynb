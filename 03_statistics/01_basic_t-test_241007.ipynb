{
 "cells": [
  {
   "cell_type": "markdown",
   "id": "b0744488-a956-47b9-8e0f-c56cc697edf1",
   "metadata": {},
   "source": [
    "# 기초 통계\n",
    "\n",
    "## 중심극한정리\n",
    "- Central Limit Theorem\n",
    "- 정규분포가 아닌 분포라도 선택된 표본들의 평균을 모아 다시 분포를 그리면 정규분포가 된다.\n",
    "- 단 최소 표본의 크기가 30이상이어야 함.\n",
    "- CLT에 따르면 sampling distribution은 정규분포 따름\n",
    "\n",
    "## 가설검정 오류\n",
    "- 1종 오류: 귀무가설이 사실인데, 귀무가설을 기각하는 경\n",
    "- 2종 오류: 귀무가설이 거짓인데, 귀무가설을 채택하는 경우\n",
    "\n",
    "## $\\alpha$ = 신뢰수준\n",
    "- 귀무가설이 참일 때, 이를 참이라고 판단하는 확률 = $ 1 - \\alpha$\n",
    "- 의사결정기준은 1종 오류를 범할 확률 (유의수준 $\\alpha$)\n",
    "\n",
    "## p-value\n",
    "- $\\alpha$ = 95% 일때\n",
    "  + $p > 0.05$ : 귀무가설 채택\n",
    "  + 그 외: 귀무가설 기각, 대립가설 채택\n",
    "\n",
    "# t-검정의 종류\n",
    "- One-Sample t-test (일표본 단일검정)\n",
    "- Paired t-test (대응표본)\n",
    "- Independent t-test (두 평균의 비교, 독립검정)\n",
    "\n",
    "# t-검정 개괄\n",
    "- 가정 만족 확인 : 정규성, 등분산성 검정\n",
    "\n",
    "> 정규성의 가설 검정\n",
    "> - 귀무가설 : 데이터가 정규분포를 따른다.\n",
    "> - 대립가설 : 데이터가 정규분포를 이루고 있지 않다.\n",
    "> - Shapiro-wilk tests로 확인\n",
    "> - 만족 안하면 비모수 검정함 : Mann-Whiteney test\n",
    "\n",
    "> 등분산성 가설 검정\n",
    "> - 귀무가설: 두 그룹의 분산 같다.\n",
    "> - 대립가설: 두 그룹의 분산 다르다.\n",
    "> - 일반적으로 levene 검정으로 확인\n",
    "> - 만족 안하면 비모수 검정: welch test\n",
    "\n",
    "\n",
    "이걸 다 만족하면, t-검정 가설 검정을 한다.\n",
    "\n",
    "> 단일표본 t-검정\n",
    "> - 귀무가설: 모평균과 표본평균 같다.\n",
    "> - 대립가설 : 모푱균과 표본평균 같지 않다.\n",
    "\n",
    "> 독립표본 t-검정\n",
    "> - 귀무가설: 그룹 1과 그룹 2의 평균 같다.\n",
    "> - 대립가설: 그룹 1과 그룹 2의 평균 같지 않다.\n",
    "> - 가정: 독릷성, 정규성, 등분산성 만족해야함\n",
    "\n",
    "\n",
    "> 대응표본 t-검정\n",
    "> - 귀무가설: 실험전후 평균 차이 0이다.\n",
    "> - 대립가설: 실험 전후 평균 차이는 0이 아니다.\n",
    "\n",
    "\n",
    "\n",
    "\n",
    "- p-value가 0.05보다 크면 귀무가설 채택"
   ]
  },
  {
   "cell_type": "code",
   "execution_count": null,
   "id": "ca96a25d-ccd3-4bbd-9180-8c603577614e",
   "metadata": {},
   "outputs": [],
   "source": [
    "import pandas as pd\n",
    "import matplotlib.pyplot as plt\n",
    "import numpy as np\n",
    "import seaborn as sns\n",
    "import scipy.stats as stats\n",
    "import math\n",
    "from statistics import NormalDist\n",
    "from scipy.stats import ttest_1samp\n",
    "from scipy import stats"
   ]
  },
  {
   "cell_type": "markdown",
   "id": "cf20b979-8b24-45fd-bb51-b6717f2387b5",
   "metadata": {},
   "source": [
    "# z-검정, t-검정\n",
    "- 평균 차이 검정\n",
    "\n",
    "## z검정\n",
    "- 모수의 분산, 표준편차 등을 알고 있어야 함"
   ]
  },
  {
   "cell_type": "code",
   "execution_count": 2,
   "id": "fa671945-70f0-495b-a31c-878c5a6ac115",
   "metadata": {},
   "outputs": [
    {
     "data": {
      "text/html": [
       "<div>\n",
       "<style scoped>\n",
       "    .dataframe tbody tr th:only-of-type {\n",
       "        vertical-align: middle;\n",
       "    }\n",
       "\n",
       "    .dataframe tbody tr th {\n",
       "        vertical-align: top;\n",
       "    }\n",
       "\n",
       "    .dataframe thead th {\n",
       "        text-align: right;\n",
       "    }\n",
       "</style>\n",
       "<table border=\"1\" class=\"dataframe\">\n",
       "  <thead>\n",
       "    <tr style=\"text-align: right;\">\n",
       "      <th></th>\n",
       "      <th>grades</th>\n",
       "    </tr>\n",
       "  </thead>\n",
       "  <tbody>\n",
       "    <tr>\n",
       "      <th>0</th>\n",
       "      <td>50</td>\n",
       "    </tr>\n",
       "    <tr>\n",
       "      <th>1</th>\n",
       "      <td>60</td>\n",
       "    </tr>\n",
       "    <tr>\n",
       "      <th>2</th>\n",
       "      <td>60</td>\n",
       "    </tr>\n",
       "    <tr>\n",
       "      <th>3</th>\n",
       "      <td>64</td>\n",
       "    </tr>\n",
       "    <tr>\n",
       "      <th>4</th>\n",
       "      <td>66</td>\n",
       "    </tr>\n",
       "  </tbody>\n",
       "</table>\n",
       "</div>"
      ],
      "text/plain": [
       "   grades\n",
       "0      50\n",
       "1      60\n",
       "2      60\n",
       "3      64\n",
       "4      66"
      ]
     },
     "execution_count": 2,
     "metadata": {},
     "output_type": "execute_result"
    }
   ],
   "source": [
    "import pandas as pd\n",
    "df = pd.DataFrame({\"grades\" : [50, 60, 60, 64, 66, 66, 67, 69, 70, 74, 76, 76, 77, 79, 79, 79, 81, 82, 82, 89]})\n",
    "df.head()"
   ]
  },
  {
   "cell_type": "code",
   "execution_count": 3,
   "id": "dd0d7c42-23f0-45fa-98cc-a6e8c31dbfa9",
   "metadata": {},
   "outputs": [],
   "source": [
    "# 모수의 표준편차는 9.5로 알려져있다고 하자"
   ]
  },
  {
   "cell_type": "code",
   "execution_count": 4,
   "id": "0ed50bf2-4445-486b-8bee-98143cd5d27d",
   "metadata": {},
   "outputs": [
    {
     "data": {
      "image/png": "[encoded data removed]",
      "text/plain": [
       "<Figure size 640x480 with 1 Axes>"
      ]
     },
     "metadata": {},
     "output_type": "display_data"
    }
   ],
   "source": [
    "import matplotlib.pyplot as plt\n",
    "import numpy as np\n",
    "import seaborn as sns\n",
    "import scipy.stats as stats\n",
    "\n",
    "mu = 67.5       # 모수의 평균\n",
    "sigma = 9.5     # 모수의 편차\n",
    "x = np.linspace(mu - 3*sigma, mu + 3*sigma, 100)\n",
    "y = 100* stats.norm.pdf(x, mu, sigma)\n",
    "\n",
    "fig, ax = plt.subplots()\n",
    "ax1 = sns.histplot(df['grades'])\n",
    "\n",
    "ax2 = sns.lineplot(x=x,y=y, color='black')\n",
    "\n",
    "plt.ylim(bottom=-1)\n",
    "\n",
    "ax1.set_frame_on(False)\n",
    "ax1.axes.get_yaxis().set_visible(False)\n",
    "\n",
    "plt.show()"
   ]
  },
  {
   "cell_type": "markdown",
   "id": "f323d8cd-d5b0-4735-a1d7-fd48cf0f4b16",
   "metadata": {},
   "source": [
    "### 가설수립\n",
    "- 귀무가설 : 모집단의 수학점수 평균과 1반의 수학점수 평균차이는 없다!\n",
    "- 대립가설 : 모집단의 수학점수 평균과 1반의 수학점수 평균차이는 있다."
   ]
  },
  {
   "cell_type": "markdown",
   "id": "8db38d63-fe2c-4a3f-8bcf-c35f04eb453f",
   "metadata": {},
   "source": [
    "### z - score 구하기"
   ]
  },
  {
   "cell_type": "code",
   "execution_count": 6,
   "id": "456678f3-7a97-47fe-aa7b-52fc4bd5003f",
   "metadata": {},
   "outputs": [
    {
     "data": {
      "text/plain": [
       "np.float64(2.259605535157681)"
      ]
     },
     "execution_count": 6,
     "metadata": {},
     "output_type": "execute_result"
    }
   ],
   "source": [
    "import math\n",
    "sample_mean = df['grades'].mean()\n",
    "sd_true = 9.5\n",
    "mu_null = 67.5\n",
    "N = len(df['grades'])\n",
    "sem_true = sd_true / math.sqrt(N)\n",
    "z_score = (sample_mean - mu_null) / sem_true\n",
    "z_score # 통계량\n"
   ]
  },
  {
   "cell_type": "markdown",
   "id": "795d91e7-0282-4423-a833-b306755a36fd",
   "metadata": {},
   "source": [
    "### p-value"
   ]
  },
  {
   "cell_type": "code",
   "execution_count": 7,
   "id": "d92624d0-937e-491e-8ff0-3663fb918122",
   "metadata": {},
   "outputs": [
    {
     "data": {
      "text/plain": [
       "0.023845743764939753"
      ]
     },
     "execution_count": 7,
     "metadata": {},
     "output_type": "execute_result"
    }
   ],
   "source": [
    "from statistics import NormalDist\n",
    "\n",
    "lower_area = NormalDist().cdf(-z_score)\n",
    "upper_area = lower_area\n",
    "p_value = lower_area + upper_area\n",
    "p_value\n"
   ]
  },
  {
   "cell_type": "markdown",
   "id": "7a71dc2a-9c84-4ccb-8ced-2635fa30e2cb",
   "metadata": {},
   "source": [
    "## t-검정의 종류\n",
    "- One-Sample t-test (일표본 단일검정)\n",
    "- Paired t-test (대응표본)\n",
    "- Independent t-test (두 평균의 비교, 독립검정)"
   ]
  },
  {
   "cell_type": "markdown",
   "id": "e30d6fd8-671c-4212-908d-25dfeabaf036",
   "metadata": {},
   "source": [
    "# One-Sample t-test\n",
    "- 일표본 단일검정\n",
    "- z-검정과의 차이점\n",
    "  + 모집단의 표준편차를 모름\n",
    "  + 모집단의 평균을 알고 있음\n",
    "  + 자유도 : N-1 (z-검정은 N)\n",
    "- 모집단의 평균 : 사회적인 통념, 알려진 사실\n",
    "\n",
    "\n",
    "- 가설설정\n",
    "  + 귀무가설 : 모집단의 평균과 표본의 평균은 같다.\n",
    "    - 오리온 초코칩의 무게중량 45g이 맞을 것이야\n",
    "  + 대립가설 : 모집단의 평균과 표본의 평균은 다르다.\n",
    "    - 오리온 초코칩의 무게중량 45g이 아니다!"
   ]
  },
  {
   "cell_type": "code",
   "execution_count": 8,
   "id": "996e05ba-5e7c-4009-b64d-787d4b78faf2",
   "metadata": {},
   "outputs": [
    {
     "name": "stdout",
     "output_type": "stream",
     "text": [
      "Sample mean: 72.3\n",
      "Degrees of freedom: 19\n"
     ]
    }
   ],
   "source": [
    "\n",
    "N = len(df['grades'])\n",
    "degfree = N-1\n",
    "sample_mean = df['grades'].mean()\n",
    "print('Sample mean:', sample_mean)\n",
    "print('Degrees of freedom:', degfree)"
   ]
  },
  {
   "cell_type": "markdown",
   "id": "2cd265f6-842a-462b-bb4d-2f5141e14576",
   "metadata": {},
   "source": [
    "## t-test"
   ]
  },
  {
   "cell_type": "code",
   "execution_count": 11,
   "id": "3532e41f-d0be-4578-a69e-e632533bd949",
   "metadata": {},
   "outputs": [
    {
     "data": {
      "text/plain": [
       "(np.float64(0.6106514014810425), np.float64(0.5486662606700853))"
      ]
     },
     "execution_count": 11,
     "metadata": {},
     "output_type": "execute_result"
    }
   ],
   "source": [
    "from scipy.stats import ttest_1samp\n",
    "\n",
    "# ttest_1samp : one sample test\n",
    "t, p = ttest_1samp(a = df['grades'], popmean = 71) # popmean: 모집단 평균\n",
    "t, p"
   ]
  },
  {
   "cell_type": "code",
   "execution_count": 12,
   "id": "9ecc525c-120a-4cf3-b8ce-656f33b2a002",
   "metadata": {},
   "outputs": [],
   "source": [
    "# t 값: 표본 평균이 주어진 모집단 평균과 얼마나 차이가 나는지를 나타내는 t-통계량입니다.\n",
    "# p 값: 귀무가설 하에서 표본 평균이 주어진 모집단 평균과 같을 확률입니다."
   ]
  },
  {
   "cell_type": "markdown",
   "id": "20d36da2-dd8f-4073-b8c1-60410b9bee57",
   "metadata": {},
   "source": [
    "## 신뢰구간 추정"
   ]
  },
  {
   "cell_type": "code",
   "execution_count": 13,
   "id": "78f8eaa5-d2c8-49ce-80f5-31215ead297e",
   "metadata": {},
   "outputs": [
    {
     "data": {
      "text/plain": [
       "(np.float64(67.84421513791415), np.float64(76.75578486208585))"
      ]
     },
     "execution_count": 13,
     "metadata": {},
     "output_type": "execute_result"
    }
   ],
   "source": [
    "from scipy import stats\n",
    "\n",
    "confidence_level = 0.95\n",
    "degrees_freedom = len(df['grades'])-1\n",
    "sample_mean = df['grades'].mean()\n",
    "sample_standard_error = df['grades'].sem()\n",
    "\n",
    "confidence_interval = stats.t.interval(confidence_level, degrees_freedom, sample_mean, sample_standard_error)\n",
    "confidence_interval"
   ]
  },
  {
   "cell_type": "code",
   "execution_count": 14,
   "id": "befb15c1-d60e-4088-828a-3ef998d93e80",
   "metadata": {},
   "outputs": [
    {
     "data": {
      "text/plain": [
       "ConfidenceInterval(low=np.float64(67.84421513791415), high=np.float64(76.75578486208585))"
      ]
     },
     "execution_count": 14,
     "metadata": {},
     "output_type": "execute_result"
    }
   ],
   "source": [
    "ttest_1samp(a = df['grades'], popmean = 71).confidence_interval()"
   ]
  },
  {
   "cell_type": "markdown",
   "id": "db97b227-ae98-4304-8e8e-8ebe786eb899",
   "metadata": {},
   "source": [
    "## 문제\n",
    "- 주어진 데이터(data/trees.csv)에는 블랙 체리나무 31그루의 둘레와 높이, 부피가 저장되어 있다. 체리나무의 평균 높이는 75로 알려져 있다. 이 높이에 대해서 이 표본의 평균이 모평균과 일치하는지 단일표본 t-검정(One Sample t-test)을 통해 답하고자 한다. 가설은 아래와 같다.\n",
    "\n",
    "- 가설검정\n",
    "  + 귀무가설 : 체리나무의 모평균(평균 75)과 표본평균(평균 76)의 차이는 같다.\n",
    "  + 대립가설 : 체리나무의 모평균(평균 75)과 표본평균(평균 66)의 차이는 같지 않다.\n",
    "\n",
    "- 데이터의 변수\n",
    "  + Girth : 둘레\n",
    "  + Height : 높이\n",
    "  + Volume : 부피\n",
    "- 단, 데이터의 각 변수들은 정규 분포를 만족한다고 가정한다.\n",
    "\n",
    "- 문제 1 : 표본평균 X를 구하시오. (반올림하여 소숫점 둘째 자리까지 계산)\n",
    "- 문제 2 : 위의 가설을 검정하기 위한 검정통계량을 구하시오. (반올림하여 소숫점 둘째 자리까지 계산)\n",
    "- 문제 3 : 위의 통계량에 대한 p-값을 구하고(반올림하여 소숫점 넷째 자리까지 계산), 유의수준 0.05하에서 가설검정의 결과를 채택/기각 중 하나로 선택하시오."
   ]
  },
  {
   "cell_type": "code",
   "execution_count": 19,
   "id": "aaf61c3a-0ba3-45e3-887c-dc5a41175197",
   "metadata": {},
   "outputs": [
    {
     "data": {
      "text/html": [
       "<div>\n",
       "<style scoped>\n",
       "    .dataframe tbody tr th:only-of-type {\n",
       "        vertical-align: middle;\n",
       "    }\n",
       "\n",
       "    .dataframe tbody tr th {\n",
       "        vertical-align: top;\n",
       "    }\n",
       "\n",
       "    .dataframe thead th {\n",
       "        text-align: right;\n",
       "    }\n",
       "</style>\n",
       "<table border=\"1\" class=\"dataframe\">\n",
       "  <thead>\n",
       "    <tr style=\"text-align: right;\">\n",
       "      <th></th>\n",
       "      <th>Girth</th>\n",
       "      <th>Height</th>\n",
       "      <th>Volume</th>\n",
       "    </tr>\n",
       "  </thead>\n",
       "  <tbody>\n",
       "    <tr>\n",
       "      <th>0</th>\n",
       "      <td>8.3</td>\n",
       "      <td>70</td>\n",
       "      <td>10.3</td>\n",
       "    </tr>\n",
       "    <tr>\n",
       "      <th>1</th>\n",
       "      <td>8.6</td>\n",
       "      <td>65</td>\n",
       "      <td>10.3</td>\n",
       "    </tr>\n",
       "    <tr>\n",
       "      <th>2</th>\n",
       "      <td>8.8</td>\n",
       "      <td>63</td>\n",
       "      <td>10.2</td>\n",
       "    </tr>\n",
       "    <tr>\n",
       "      <th>3</th>\n",
       "      <td>10.5</td>\n",
       "      <td>72</td>\n",
       "      <td>16.4</td>\n",
       "    </tr>\n",
       "    <tr>\n",
       "      <th>4</th>\n",
       "      <td>10.7</td>\n",
       "      <td>81</td>\n",
       "      <td>18.8</td>\n",
       "    </tr>\n",
       "  </tbody>\n",
       "</table>\n",
       "</div>"
      ],
      "text/plain": [
       "   Girth  Height  Volume\n",
       "0    8.3      70    10.3\n",
       "1    8.6      65    10.3\n",
       "2    8.8      63    10.2\n",
       "3   10.5      72    16.4\n",
       "4   10.7      81    18.8"
      ]
     },
     "execution_count": 19,
     "metadata": {},
     "output_type": "execute_result"
    }
   ],
   "source": [
    "df=pd.read_csv('c:/Archiving/IMDGB/step03_statistics/dataset/trees.csv')\n",
    "df.head()"
   ]
  },
  {
   "cell_type": "code",
   "execution_count": 20,
   "id": "469ad99d-d8b2-49ae-8019-a5337afef14a",
   "metadata": {},
   "outputs": [
    {
     "data": {
      "text/plain": [
       "np.float64(76.0)"
      ]
     },
     "execution_count": 20,
     "metadata": {},
     "output_type": "execute_result"
    }
   ],
   "source": [
    "# 문제 1\n",
    "result = df['Height'].mean()\n",
    "result"
   ]
  },
  {
   "cell_type": "code",
   "execution_count": 21,
   "id": "1508573a-c5e7-4826-9a90-1baba3a040f2",
   "metadata": {},
   "outputs": [
    {
     "data": {
      "text/plain": [
       "(np.float64(0.8738116490580545), np.float64(0.38916223357338076))"
      ]
     },
     "execution_count": 21,
     "metadata": {},
     "output_type": "execute_result"
    }
   ],
   "source": [
    "# 문제2\n",
    "from scipy import stats\n",
    "\n",
    "t, p = stats.ttest_1samp(data['Height'], popmean = 75)\n",
    "t, p"
   ]
  },
  {
   "cell_type": "code",
   "execution_count": 22,
   "id": "f0cc7870-eacb-478f-a8a4-fbd22ff418fe",
   "metadata": {},
   "outputs": [
    {
     "name": "stdout",
     "output_type": "stream",
     "text": [
      "귀무가설 채택\n"
     ]
    }
   ],
   "source": [
    "# 문제3\n",
    "\n",
    "if p >= 0.05:\n",
    "  print(\"귀무가설 채택\")\n",
    "else:\n",
    "  print(\"귀무가설 기각 ==> 대립가설 채택\")"
   ]
  },
  {
   "cell_type": "markdown",
   "id": "2ff6983d-1868-487b-9088-1c3e945a0c4f",
   "metadata": {},
   "source": [
    "# 독립표본 T- test\n",
    "- 주어진 데이터(data/toothgrowth.csv)에는 기니피그 60마리의 치아 길이, 투여한 비타민 C 종류, 투여량이 저장되어 있다. 오렌지주스를 투여받은 기니피그의 치아 길이 평균이 아스코르브산을 투여받은 기니피그의 치아 길이 평균과 일치하는지 t-검정(Two Sample t-test)를 통해 답하고자 한다. 가설은 아래와 같다.\n",
    "- 가설검정\n",
    "  + 귀무가설 : 오렌지주스 투여 기니피그 치아 길이 평균과 아스코르브산 투여 받은 기니피그의 치아길이 평균의 차이는 0이다.\n",
    "  + 대립가설 : 오렌지주스 투여 기니피그 치아 길이 평균과 아스코르브산 투여 받은 기니피그의 치아길이 평균의 차이는 0이 아니다. (둘 평균 다르다.)\n",
    "- 데이터의 변수\n",
    "  + len : 치아의 길이\n",
    "  + supp : 투여한 약제(VC: 아스코르브산, OJ: 오렌지주스)\n",
    "  + does : 투여량\n",
    "단, 데이터의 각 변수들은 정규분포를 만족하며, 두 그룹은 등분산을 띤다.\n",
    "\n",
    "- 문제 1: 표본평균 를 구하시오.\n",
    "- 문제 2: 위의 가설을 검정하기 위한 검정통계량을 구하시오. (반올림하여 소숫점 둘째 자리까지 계산)\n",
    "- 문제 3: 위의 통계량에 대한 p-값을 구하고 (반올림하여 소숫점 넷째 자리까지 계산), 유의수준 0.05하에서 가설검정의 결과를 채택/기각 중 하나로 선택하시오.\n"
   ]
  },
  {
   "cell_type": "code",
   "execution_count": 23,
   "id": "4483c864-c064-4d55-a89f-53267218529f",
   "metadata": {},
   "outputs": [
    {
     "data": {
      "text/html": [
       "<div>\n",
       "<style scoped>\n",
       "    .dataframe tbody tr th:only-of-type {\n",
       "        vertical-align: middle;\n",
       "    }\n",
       "\n",
       "    .dataframe tbody tr th {\n",
       "        vertical-align: top;\n",
       "    }\n",
       "\n",
       "    .dataframe thead th {\n",
       "        text-align: right;\n",
       "    }\n",
       "</style>\n",
       "<table border=\"1\" class=\"dataframe\">\n",
       "  <thead>\n",
       "    <tr style=\"text-align: right;\">\n",
       "      <th></th>\n",
       "      <th>len</th>\n",
       "      <th>supp</th>\n",
       "      <th>dose</th>\n",
       "    </tr>\n",
       "  </thead>\n",
       "  <tbody>\n",
       "    <tr>\n",
       "      <th>0</th>\n",
       "      <td>4.2</td>\n",
       "      <td>VC</td>\n",
       "      <td>0.5</td>\n",
       "    </tr>\n",
       "    <tr>\n",
       "      <th>1</th>\n",
       "      <td>11.5</td>\n",
       "      <td>VC</td>\n",
       "      <td>0.5</td>\n",
       "    </tr>\n",
       "    <tr>\n",
       "      <th>2</th>\n",
       "      <td>7.3</td>\n",
       "      <td>VC</td>\n",
       "      <td>0.5</td>\n",
       "    </tr>\n",
       "    <tr>\n",
       "      <th>3</th>\n",
       "      <td>5.8</td>\n",
       "      <td>VC</td>\n",
       "      <td>0.5</td>\n",
       "    </tr>\n",
       "    <tr>\n",
       "      <th>4</th>\n",
       "      <td>6.4</td>\n",
       "      <td>VC</td>\n",
       "      <td>0.5</td>\n",
       "    </tr>\n",
       "  </tbody>\n",
       "</table>\n",
       "</div>"
      ],
      "text/plain": [
       "    len supp  dose\n",
       "0   4.2   VC   0.5\n",
       "1  11.5   VC   0.5\n",
       "2   7.3   VC   0.5\n",
       "3   5.8   VC   0.5\n",
       "4   6.4   VC   0.5"
      ]
     },
     "execution_count": 23,
     "metadata": {},
     "output_type": "execute_result"
    }
   ],
   "source": [
    "df2 = pd.read_csv(\"c:/Archiving/IMDGB/step03_statistics/dataset/toothgrowth.csv\")\n",
    "df2.head()"
   ]
  },
  {
   "cell_type": "markdown",
   "id": "4b6545f3-6222-4986-9897-635ba30f31f2",
   "metadata": {},
   "source": [
    "## 가설검정\n",
    "- 독립표본 T-검정은 정규성 검정 뿐만 아니라, 두 그룹이 등분산성을 띠는지 확인하는 작업 필요\n",
    "- Levene 검정을 사용한 등분산성 검정이 선행되어야 함\n",
    "- 가설설정\n",
    "  + 귀무가설: 두 그룹의 분산 같다\n",
    "  + 대립가설: 두 그룹의 분산은 같지 않다."
   ]
  },
  {
   "cell_type": "code",
   "execution_count": 24,
   "id": "a6e53b71-3250-4d17-b21a-01cbdd6ee0be",
   "metadata": {},
   "outputs": [
    {
     "data": {
      "text/html": [
       "<div>\n",
       "<style scoped>\n",
       "    .dataframe tbody tr th:only-of-type {\n",
       "        vertical-align: middle;\n",
       "    }\n",
       "\n",
       "    .dataframe tbody tr th {\n",
       "        vertical-align: top;\n",
       "    }\n",
       "\n",
       "    .dataframe thead th {\n",
       "        text-align: right;\n",
       "    }\n",
       "</style>\n",
       "<table border=\"1\" class=\"dataframe\">\n",
       "  <thead>\n",
       "    <tr style=\"text-align: right;\">\n",
       "      <th></th>\n",
       "      <th>len</th>\n",
       "      <th>supp</th>\n",
       "      <th>dose</th>\n",
       "    </tr>\n",
       "  </thead>\n",
       "  <tbody>\n",
       "    <tr>\n",
       "      <th>30</th>\n",
       "      <td>15.2</td>\n",
       "      <td>OJ</td>\n",
       "      <td>0.5</td>\n",
       "    </tr>\n",
       "    <tr>\n",
       "      <th>31</th>\n",
       "      <td>21.5</td>\n",
       "      <td>OJ</td>\n",
       "      <td>0.5</td>\n",
       "    </tr>\n",
       "    <tr>\n",
       "      <th>32</th>\n",
       "      <td>17.6</td>\n",
       "      <td>OJ</td>\n",
       "      <td>0.5</td>\n",
       "    </tr>\n",
       "    <tr>\n",
       "      <th>33</th>\n",
       "      <td>9.7</td>\n",
       "      <td>OJ</td>\n",
       "      <td>0.5</td>\n",
       "    </tr>\n",
       "    <tr>\n",
       "      <th>34</th>\n",
       "      <td>14.5</td>\n",
       "      <td>OJ</td>\n",
       "      <td>0.5</td>\n",
       "    </tr>\n",
       "    <tr>\n",
       "      <th>35</th>\n",
       "      <td>10.0</td>\n",
       "      <td>OJ</td>\n",
       "      <td>0.5</td>\n",
       "    </tr>\n",
       "    <tr>\n",
       "      <th>36</th>\n",
       "      <td>8.2</td>\n",
       "      <td>OJ</td>\n",
       "      <td>0.5</td>\n",
       "    </tr>\n",
       "    <tr>\n",
       "      <th>37</th>\n",
       "      <td>9.4</td>\n",
       "      <td>OJ</td>\n",
       "      <td>0.5</td>\n",
       "    </tr>\n",
       "    <tr>\n",
       "      <th>38</th>\n",
       "      <td>16.5</td>\n",
       "      <td>OJ</td>\n",
       "      <td>0.5</td>\n",
       "    </tr>\n",
       "    <tr>\n",
       "      <th>39</th>\n",
       "      <td>9.7</td>\n",
       "      <td>OJ</td>\n",
       "      <td>0.5</td>\n",
       "    </tr>\n",
       "    <tr>\n",
       "      <th>40</th>\n",
       "      <td>19.7</td>\n",
       "      <td>OJ</td>\n",
       "      <td>1.0</td>\n",
       "    </tr>\n",
       "    <tr>\n",
       "      <th>41</th>\n",
       "      <td>23.3</td>\n",
       "      <td>OJ</td>\n",
       "      <td>1.0</td>\n",
       "    </tr>\n",
       "    <tr>\n",
       "      <th>42</th>\n",
       "      <td>23.6</td>\n",
       "      <td>OJ</td>\n",
       "      <td>1.0</td>\n",
       "    </tr>\n",
       "    <tr>\n",
       "      <th>43</th>\n",
       "      <td>26.4</td>\n",
       "      <td>OJ</td>\n",
       "      <td>1.0</td>\n",
       "    </tr>\n",
       "    <tr>\n",
       "      <th>44</th>\n",
       "      <td>20.0</td>\n",
       "      <td>OJ</td>\n",
       "      <td>1.0</td>\n",
       "    </tr>\n",
       "    <tr>\n",
       "      <th>45</th>\n",
       "      <td>25.2</td>\n",
       "      <td>OJ</td>\n",
       "      <td>1.0</td>\n",
       "    </tr>\n",
       "    <tr>\n",
       "      <th>46</th>\n",
       "      <td>25.8</td>\n",
       "      <td>OJ</td>\n",
       "      <td>1.0</td>\n",
       "    </tr>\n",
       "    <tr>\n",
       "      <th>47</th>\n",
       "      <td>21.2</td>\n",
       "      <td>OJ</td>\n",
       "      <td>1.0</td>\n",
       "    </tr>\n",
       "    <tr>\n",
       "      <th>48</th>\n",
       "      <td>14.5</td>\n",
       "      <td>OJ</td>\n",
       "      <td>1.0</td>\n",
       "    </tr>\n",
       "    <tr>\n",
       "      <th>49</th>\n",
       "      <td>27.3</td>\n",
       "      <td>OJ</td>\n",
       "      <td>1.0</td>\n",
       "    </tr>\n",
       "    <tr>\n",
       "      <th>50</th>\n",
       "      <td>25.5</td>\n",
       "      <td>OJ</td>\n",
       "      <td>2.0</td>\n",
       "    </tr>\n",
       "    <tr>\n",
       "      <th>51</th>\n",
       "      <td>26.4</td>\n",
       "      <td>OJ</td>\n",
       "      <td>2.0</td>\n",
       "    </tr>\n",
       "    <tr>\n",
       "      <th>52</th>\n",
       "      <td>22.4</td>\n",
       "      <td>OJ</td>\n",
       "      <td>2.0</td>\n",
       "    </tr>\n",
       "    <tr>\n",
       "      <th>53</th>\n",
       "      <td>24.5</td>\n",
       "      <td>OJ</td>\n",
       "      <td>2.0</td>\n",
       "    </tr>\n",
       "    <tr>\n",
       "      <th>54</th>\n",
       "      <td>24.8</td>\n",
       "      <td>OJ</td>\n",
       "      <td>2.0</td>\n",
       "    </tr>\n",
       "    <tr>\n",
       "      <th>55</th>\n",
       "      <td>30.9</td>\n",
       "      <td>OJ</td>\n",
       "      <td>2.0</td>\n",
       "    </tr>\n",
       "    <tr>\n",
       "      <th>56</th>\n",
       "      <td>26.4</td>\n",
       "      <td>OJ</td>\n",
       "      <td>2.0</td>\n",
       "    </tr>\n",
       "    <tr>\n",
       "      <th>57</th>\n",
       "      <td>27.3</td>\n",
       "      <td>OJ</td>\n",
       "      <td>2.0</td>\n",
       "    </tr>\n",
       "    <tr>\n",
       "      <th>58</th>\n",
       "      <td>29.4</td>\n",
       "      <td>OJ</td>\n",
       "      <td>2.0</td>\n",
       "    </tr>\n",
       "    <tr>\n",
       "      <th>59</th>\n",
       "      <td>23.0</td>\n",
       "      <td>OJ</td>\n",
       "      <td>2.0</td>\n",
       "    </tr>\n",
       "  </tbody>\n",
       "</table>\n",
       "</div>"
      ],
      "text/plain": [
       "     len supp  dose\n",
       "30  15.2   OJ   0.5\n",
       "31  21.5   OJ   0.5\n",
       "32  17.6   OJ   0.5\n",
       "33   9.7   OJ   0.5\n",
       "34  14.5   OJ   0.5\n",
       "35  10.0   OJ   0.5\n",
       "36   8.2   OJ   0.5\n",
       "37   9.4   OJ   0.5\n",
       "38  16.5   OJ   0.5\n",
       "39   9.7   OJ   0.5\n",
       "40  19.7   OJ   1.0\n",
       "41  23.3   OJ   1.0\n",
       "42  23.6   OJ   1.0\n",
       "43  26.4   OJ   1.0\n",
       "44  20.0   OJ   1.0\n",
       "45  25.2   OJ   1.0\n",
       "46  25.8   OJ   1.0\n",
       "47  21.2   OJ   1.0\n",
       "48  14.5   OJ   1.0\n",
       "49  27.3   OJ   1.0\n",
       "50  25.5   OJ   2.0\n",
       "51  26.4   OJ   2.0\n",
       "52  22.4   OJ   2.0\n",
       "53  24.5   OJ   2.0\n",
       "54  24.8   OJ   2.0\n",
       "55  30.9   OJ   2.0\n",
       "56  26.4   OJ   2.0\n",
       "57  27.3   OJ   2.0\n",
       "58  29.4   OJ   2.0\n",
       "59  23.0   OJ   2.0"
      ]
     },
     "execution_count": 24,
     "metadata": {},
     "output_type": "execute_result"
    }
   ],
   "source": [
    "df2.loc[df2['supp']=='OJ']"
   ]
  },
  {
   "cell_type": "code",
   "execution_count": 25,
   "id": "58c91df1-7e9a-4f68-86b9-00cd61f0ecc0",
   "metadata": {},
   "outputs": [
    {
     "data": {
      "text/plain": [
       "30    15.2\n",
       "31    21.5\n",
       "32    17.6\n",
       "33     9.7\n",
       "34    14.5\n",
       "35    10.0\n",
       "36     8.2\n",
       "37     9.4\n",
       "38    16.5\n",
       "39     9.7\n",
       "40    19.7\n",
       "41    23.3\n",
       "42    23.6\n",
       "43    26.4\n",
       "44    20.0\n",
       "45    25.2\n",
       "46    25.8\n",
       "47    21.2\n",
       "48    14.5\n",
       "49    27.3\n",
       "50    25.5\n",
       "51    26.4\n",
       "52    22.4\n",
       "53    24.5\n",
       "54    24.8\n",
       "55    30.9\n",
       "56    26.4\n",
       "57    27.3\n",
       "58    29.4\n",
       "59    23.0\n",
       "Name: len, dtype: float64"
      ]
     },
     "execution_count": 25,
     "metadata": {},
     "output_type": "execute_result"
    }
   ],
   "source": [
    "df2.loc[df2['supp']=='OJ','len']"
   ]
  },
  {
   "cell_type": "markdown",
   "id": "0e9f10bb-ef6c-4090-b82b-d6818697b910",
   "metadata": {},
   "source": [
    "## 등분산성 검정\n",
    "- levene 검정"
   ]
  },
  {
   "cell_type": "code",
   "execution_count": 27,
   "id": "2ef3e9f0-cea4-489e-8c56-5ab01faa5bc6",
   "metadata": {},
   "outputs": [
    {
     "data": {
      "text/plain": [
       "LeveneResult(statistic=np.float64(1.2135720656945064), pvalue=np.float64(0.2751764616144052))"
      ]
     },
     "execution_count": 27,
     "metadata": {},
     "output_type": "execute_result"
    }
   ],
   "source": [
    "from scipy import stats\n",
    "stats.levene( df2.loc[df2['supp']=='OJ', 'len'] , df2.loc[df2['supp']=='VC', 'len'] )"
   ]
  },
  {
   "cell_type": "code",
   "execution_count": 28,
   "id": "729455b2-c025-48a3-b3c5-57f12aaaf6f9",
   "metadata": {},
   "outputs": [],
   "source": [
    "# pvalue=np.float64(0.2751764616144052) : 귀무가설 채택 -> 이제 t-test 할 수 있음\n",
    "# 보험 장기 거래가 되는 요인 보기 "
   ]
  },
  {
   "cell_type": "code",
   "execution_count": 29,
   "id": "638a529c-505b-41f7-9fc7-ef190d742e99",
   "metadata": {},
   "outputs": [
    {
     "data": {
      "text/plain": [
       "np.float64(20.66)"
      ]
     },
     "execution_count": 29,
     "metadata": {},
     "output_type": "execute_result"
    }
   ],
   "source": [
    "# 문제 1\n",
    "oj_mean = df2.loc[df2['supp']=='OJ', 'len'].mean()\n",
    "round(oj_mean,2)"
   ]
  },
  {
   "cell_type": "code",
   "execution_count": 30,
   "id": "3c354ee0-2d86-4883-afa5-f647ce8ed319",
   "metadata": {},
   "outputs": [
    {
     "data": {
      "text/plain": [
       "np.float64(16.96)"
      ]
     },
     "execution_count": 30,
     "metadata": {},
     "output_type": "execute_result"
    }
   ],
   "source": [
    "vc_mean = df2.loc[df2['supp']=='VC', 'len'].mean()\n",
    "round(vc_mean,2)"
   ]
  },
  {
   "cell_type": "code",
   "execution_count": 31,
   "id": "1872c88f-82c2-484f-a2d5-0f2fd3d3a550",
   "metadata": {},
   "outputs": [],
   "source": [
    "# np.float64(20.66) , np.float64(16.96) -> 두 집단 평균 차이가 남"
   ]
  },
  {
   "cell_type": "code",
   "execution_count": 33,
   "id": "862461f7-8743-4a10-9d52-27bd86f06934",
   "metadata": {},
   "outputs": [
    {
     "data": {
      "text/plain": [
       "(np.float64(1.91526826869527), np.float64(0.06039337122412848))"
      ]
     },
     "execution_count": 33,
     "metadata": {},
     "output_type": "execute_result"
    }
   ],
   "source": [
    "# 문제 2\n",
    "from scipy import stats\n",
    "t, p = stats.ttest_ind(df2.loc[df2['supp']=='OJ', 'len'], \n",
    "                       df2.loc[df2['supp']=='VC', 'len'], \n",
    "                       equal_var=True) # equal_var = True, when 등분산성 만족할 때\n",
    "t, p"
   ]
  },
  {
   "cell_type": "code",
   "execution_count": 34,
   "id": "bbf2a508-91bf-4c45-a648-436b6c5c6b7d",
   "metadata": {},
   "outputs": [],
   "source": [
    "# p = np.float64(0.06039337122412848) : 0.05 보다 크다 -> 귀무가설 채택 "
   ]
  },
  {
   "cell_type": "code",
   "execution_count": 35,
   "id": "928ca9e2-b798-416e-af9b-34122b96d474",
   "metadata": {},
   "outputs": [
    {
     "data": {
      "text/plain": [
       "np.float64(0.0604)"
      ]
     },
     "execution_count": 35,
     "metadata": {},
     "output_type": "execute_result"
    }
   ],
   "source": [
    "# 문제 3\n",
    "round(p,4)"
   ]
  },
  {
   "cell_type": "code",
   "execution_count": 36,
   "id": "14561296-d528-4531-aa85-32a83a8cdba7",
   "metadata": {},
   "outputs": [
    {
     "name": "stdout",
     "output_type": "stream",
     "text": [
      "귀무가설 채택\n"
     ]
    }
   ],
   "source": [
    "if p>= 0.05:\n",
    "  print(\"귀무가설 채택\")\n",
    "else:\n",
    "  print(\"귀무가설 기각 ==> 대립가설 채택\")"
   ]
  },
  {
   "cell_type": "markdown",
   "id": "73a86b18-4cec-4881-b1d9-e479cf3ec2cb",
   "metadata": {},
   "source": [
    "# 쌍체표본 t-test\n",
    "\n",
    "- 주어진 데이터(data/insectsprays.csv)에는 여러 지역에서 스프레이를 뿌리기 전에 측정한 곤충의 수와 스프레이를 뿌린 다음의 곤충의 수가 저장되어 있다. 해당 스프레이가 구제 효과가 있는지(즉, 스프레이를 뿌린 뒤 곤충의 수가 감소했는지) 쌍체표본 t-검정(Paired t-test)을 통해 답하고자 한다.\n",
    "- 가설검정 가설검정 만들기\n",
    "  + 귀무가설 : 스프레이 뿌리기 전 곤충 수의 평균과 뿌린 후의 평균의 차가 0이다.\n",
    "  + 대립가설 : 스프레이 뿌리기 전 곤충 수의 평균과 뿌린 후의 평균의 차가 0이 아니다.\n",
    "\n",
    "- 데이터의 변수\n",
    "  + before_spr : 살충제 뿌리기 전 곤충의 수\n",
    "  + after_spr : 살충제 뿌린 뒤 곤충의 수\n",
    "- 단, 는 정규분포를 만족한다.\n",
    "\n",
    "- 문제 1: 표본평균 의 표본 평균을 구하시오. (반올림하여 소숫점 둘째 자리까지 계산)\n",
    "- 문제 2: 위의 가설을 검정하기 위한 검정통계량을 구하시오. (반올림하여 소숫점 둘째 자리까지 계산)\n",
    "- 문제 3: 위의 통계량에 대한 p-값을 구하고 (반올림하여 소숫점 넷째 자리까지 계산), 유의수준 0.05하에서 가설검정의 결과를 채택/기각 중 하나로 선택하시오."
   ]
  },
  {
   "cell_type": "code",
   "execution_count": 37,
   "id": "6b61e758-ed0b-4846-8e3b-4694a3007fe6",
   "metadata": {},
   "outputs": [
    {
     "data": {
      "text/html": [
       "<div>\n",
       "<style scoped>\n",
       "    .dataframe tbody tr th:only-of-type {\n",
       "        vertical-align: middle;\n",
       "    }\n",
       "\n",
       "    .dataframe tbody tr th {\n",
       "        vertical-align: top;\n",
       "    }\n",
       "\n",
       "    .dataframe thead th {\n",
       "        text-align: right;\n",
       "    }\n",
       "</style>\n",
       "<table border=\"1\" class=\"dataframe\">\n",
       "  <thead>\n",
       "    <tr style=\"text-align: right;\">\n",
       "      <th></th>\n",
       "      <th>before_spr</th>\n",
       "      <th>after_spr</th>\n",
       "    </tr>\n",
       "  </thead>\n",
       "  <tbody>\n",
       "    <tr>\n",
       "      <th>0</th>\n",
       "      <td>10</td>\n",
       "      <td>0</td>\n",
       "    </tr>\n",
       "    <tr>\n",
       "      <th>1</th>\n",
       "      <td>7</td>\n",
       "      <td>1</td>\n",
       "    </tr>\n",
       "    <tr>\n",
       "      <th>2</th>\n",
       "      <td>20</td>\n",
       "      <td>7</td>\n",
       "    </tr>\n",
       "    <tr>\n",
       "      <th>3</th>\n",
       "      <td>14</td>\n",
       "      <td>2</td>\n",
       "    </tr>\n",
       "    <tr>\n",
       "      <th>4</th>\n",
       "      <td>14</td>\n",
       "      <td>3</td>\n",
       "    </tr>\n",
       "  </tbody>\n",
       "</table>\n",
       "</div>"
      ],
      "text/plain": [
       "   before_spr  after_spr\n",
       "0          10          0\n",
       "1           7          1\n",
       "2          20          7\n",
       "3          14          2\n",
       "4          14          3"
      ]
     },
     "execution_count": 37,
     "metadata": {},
     "output_type": "execute_result"
    }
   ],
   "source": [
    "df3 = pd.read_csv(\"c:/Archiving/IMDGB/step03_statistics/dataset/insectsprays.csv\")\n",
    "df3.head()"
   ]
  },
  {
   "cell_type": "code",
   "execution_count": 40,
   "id": "b474bc86-01a8-4216-9d39-995030cecb5e",
   "metadata": {},
   "outputs": [
    {
     "data": {
      "text/plain": [
       "np.float64(12.0)"
      ]
     },
     "execution_count": 40,
     "metadata": {},
     "output_type": "execute_result"
    }
   ],
   "source": [
    "# 문제 1\n",
    "diff = df3['before_spr'] - df3['after_spr']\n",
    "result3 = round(diff.mean(),2)\n",
    "result3"
   ]
  },
  {
   "cell_type": "code",
   "execution_count": 41,
   "id": "140b3db7-eab9-404e-92ba-812a8599f563",
   "metadata": {},
   "outputs": [
    {
     "name": "stdout",
     "output_type": "stream",
     "text": [
      "14.89 0.0\n"
     ]
    }
   ],
   "source": [
    "# 문제 2\n",
    "from scipy import stats\n",
    "t, p = stats.ttest_rel(df3['before_spr'], df3['after_spr'])\n",
    "print(round(t, 2),round(p ,2))"
   ]
  },
  {
   "cell_type": "code",
   "execution_count": 42,
   "id": "77948dc3-5dd4-40bd-a73a-dabbedaf2f17",
   "metadata": {},
   "outputs": [
    {
     "name": "stdout",
     "output_type": "stream",
     "text": [
      "0.0\n",
      "귀무가설 기각 ==> 대립가설 채택\n"
     ]
    }
   ],
   "source": [
    "# 문제 3\n",
    "print(round(p,2))\n",
    "\n",
    "if p>= 0.05:\n",
    "  print(\"귀무가설 채택\")\n",
    "else:\n",
    "  print(\"귀무가설 기각 ==> 대립가설 채택\")"
   ]
  },
  {
   "cell_type": "markdown",
   "id": "5c5becf3-e4eb-4278-a8a1-3f0e1ed00825",
   "metadata": {},
   "source": [
    "# 시각화, 독립성검정\n",
    "\n",
    "- 그러려면 value_counts 찍어서 데이터 분포를 보자\n",
    "- 보면... 독립성검정 시행할 수 있는 변수는 총 3개인것을 확인 가능.\n",
    "- 왜냐, 그룹화가 2개로만 된거면 할 수 있으니까.\n",
    "\n",
    "\n",
    "- 시나리오\n",
    "  + 성별에 따라서 팁의 액수 평균차이가 존재할 까?\n",
    "  + 흡연여부에 따라서 팁의 액수 평균차이가 존재할까?\n",
    "  + 시간대에 따라서 팁의 액수 평균 차이가 존재할까?\n",
    "\n",
    "- 히스토그램\n",
    "  + 정규분포 따르는지 아닌지 알아야함.\n",
    "  + 데이터가 연속형일 때, 숫자일 때 그래프 그려야 함\n",
    "  + tip을 그릴 때... 그룹 단위로 정규분포를 따르는지 아닌지 체크 해야함 -> 그래프 쌍으로 그려야함. 그룹별로"
   ]
  },
  {
   "cell_type": "code",
   "execution_count": 43,
   "id": "ecacf615-2d93-4a2d-9589-6a490f25521f",
   "metadata": {},
   "outputs": [
    {
     "data": {
      "text/html": [
       "<div>\n",
       "<style scoped>\n",
       "    .dataframe tbody tr th:only-of-type {\n",
       "        vertical-align: middle;\n",
       "    }\n",
       "\n",
       "    .dataframe tbody tr th {\n",
       "        vertical-align: top;\n",
       "    }\n",
       "\n",
       "    .dataframe thead th {\n",
       "        text-align: right;\n",
       "    }\n",
       "</style>\n",
       "<table border=\"1\" class=\"dataframe\">\n",
       "  <thead>\n",
       "    <tr style=\"text-align: right;\">\n",
       "      <th></th>\n",
       "      <th>total_bill</th>\n",
       "      <th>tip</th>\n",
       "      <th>sex</th>\n",
       "      <th>smoker</th>\n",
       "      <th>day</th>\n",
       "      <th>time</th>\n",
       "      <th>size</th>\n",
       "    </tr>\n",
       "  </thead>\n",
       "  <tbody>\n",
       "    <tr>\n",
       "      <th>0</th>\n",
       "      <td>16.99</td>\n",
       "      <td>1.01</td>\n",
       "      <td>Female</td>\n",
       "      <td>No</td>\n",
       "      <td>Sun</td>\n",
       "      <td>Dinner</td>\n",
       "      <td>2</td>\n",
       "    </tr>\n",
       "    <tr>\n",
       "      <th>1</th>\n",
       "      <td>10.34</td>\n",
       "      <td>1.66</td>\n",
       "      <td>Male</td>\n",
       "      <td>No</td>\n",
       "      <td>Sun</td>\n",
       "      <td>Dinner</td>\n",
       "      <td>3</td>\n",
       "    </tr>\n",
       "    <tr>\n",
       "      <th>2</th>\n",
       "      <td>21.01</td>\n",
       "      <td>3.50</td>\n",
       "      <td>Male</td>\n",
       "      <td>No</td>\n",
       "      <td>Sun</td>\n",
       "      <td>Dinner</td>\n",
       "      <td>3</td>\n",
       "    </tr>\n",
       "    <tr>\n",
       "      <th>3</th>\n",
       "      <td>23.68</td>\n",
       "      <td>3.31</td>\n",
       "      <td>Male</td>\n",
       "      <td>No</td>\n",
       "      <td>Sun</td>\n",
       "      <td>Dinner</td>\n",
       "      <td>2</td>\n",
       "    </tr>\n",
       "    <tr>\n",
       "      <th>4</th>\n",
       "      <td>24.59</td>\n",
       "      <td>3.61</td>\n",
       "      <td>Female</td>\n",
       "      <td>No</td>\n",
       "      <td>Sun</td>\n",
       "      <td>Dinner</td>\n",
       "      <td>4</td>\n",
       "    </tr>\n",
       "  </tbody>\n",
       "</table>\n",
       "</div>"
      ],
      "text/plain": [
       "   total_bill   tip     sex smoker  day    time  size\n",
       "0       16.99  1.01  Female     No  Sun  Dinner     2\n",
       "1       10.34  1.66    Male     No  Sun  Dinner     3\n",
       "2       21.01  3.50    Male     No  Sun  Dinner     3\n",
       "3       23.68  3.31    Male     No  Sun  Dinner     2\n",
       "4       24.59  3.61  Female     No  Sun  Dinner     4"
      ]
     },
     "execution_count": 43,
     "metadata": {},
     "output_type": "execute_result"
    }
   ],
   "source": [
    "import seaborn as sns\n",
    "import pandas as pd\n",
    "\n",
    "tips = sns.load_dataset(\"tips\")\n",
    "tips.head() "
   ]
  },
  {
   "cell_type": "code",
   "execution_count": 44,
   "id": "f75f6b82-2e91-464a-a354-375b5dfd2456",
   "metadata": {},
   "outputs": [
    {
     "data": {
      "text/plain": [
       "smoker\n",
       "No     151\n",
       "Yes     93\n",
       "Name: count, dtype: int64"
      ]
     },
     "execution_count": 44,
     "metadata": {},
     "output_type": "execute_result"
    }
   ],
   "source": [
    "tips['smoker'].value_counts()"
   ]
  },
  {
   "cell_type": "code",
   "execution_count": 45,
   "id": "8265033e-8f25-4de8-9ae9-10838088e7c3",
   "metadata": {},
   "outputs": [
    {
     "data": {
      "image/png": "[encoded data removed]",
      "text/plain": [
       "<Figure size 1500x500 with 2 Axes>"
      ]
     },
     "metadata": {},
     "output_type": "display_data"
    }
   ],
   "source": [
    "import matplotlib.pyplot as plt\n",
    "import seaborn as sns\n",
    "\n",
    "# 데이터 분리\n",
    "smoker_yes=tips.loc[tips['smoker']=='Yes',:]\n",
    "smoker_no=tips.loc[tips['smoker']=='No',:]\n",
    "\n",
    "\n",
    "fig, ax = plt.subplots(nrows = 1, ncols = 2, figsize=(15,5))\n",
    "\n",
    "sns.histplot(smoker_yes['tip'], ax=ax[0])\n",
    "sns.histplot(smoker_no['tip'], ax=ax[1])\n",
    "\n",
    "\n",
    "plt.show()"
   ]
  },
  {
   "cell_type": "code",
   "execution_count": 46,
   "id": "a87c583f-c696-43c1-bf52-d0ac2bfbbd13",
   "metadata": {},
   "outputs": [],
   "source": [
    "# 위에거는 정규분포 안따르는 것으로 보이지만, 데이터 개수가 30개가 넘으니까 정규분포 만족한다고 생각하고 갈거임. by 중심극한정리 "
   ]
  },
  {
   "cell_type": "markdown",
   "id": "79d7eac4-1d41-4992-b0d6-4918f02bd942",
   "metadata": {},
   "source": [
    "## Shapiro Wilk 검정\n",
    "- sample이 30개 미만이라는 가정하에, 정규성 검정해보자"
   ]
  },
  {
   "cell_type": "code",
   "execution_count": 47,
   "id": "aa0e42bc-cb00-449a-9c90-0cf249c89798",
   "metadata": {},
   "outputs": [
    {
     "data": {
      "image/png": "[encoded data removed]",
      "text/plain": [
       "<Figure size 1500x500 with 2 Axes>"
      ]
     },
     "metadata": {},
     "output_type": "display_data"
    }
   ],
   "source": [
    "import numpy as np\n",
    "import seaborn as sns\n",
    "from matplotlib import pyplot as plt\n",
    "from scipy.stats import probplot\n",
    "from scipy.stats import shapiro\n",
    "\n",
    "np.random.seed(42)\n",
    "normal_data = smoker_yes['tip']\n",
    "\n",
    "fig, axes = plt.subplots(1, 2, figsize=(15, 5))\n",
    "\n",
    "probplot(normal_data, dist=\"norm\", plot = axes[0]);\n",
    "sns.histplot(normal_data, axes=axes[1]);\n",
    "\n",
    "titles = ['QQ plot', 'Histogram']\n",
    "for i, ax in enumerate(axes):\n",
    "    ax.spines[['right', 'top']].set_visible(False)\n",
    "    ax.set_title(titles[i])\n",
    "\n",
    "plt.show()"
   ]
  },
  {
   "cell_type": "markdown",
   "id": "fbfd381d-a37c-4514-978f-dfd02e941329",
   "metadata": {},
   "source": [
    "## 등분산검정"
   ]
  },
  {
   "cell_type": "code",
   "execution_count": 48,
   "id": "21829af8-9f7f-472f-b61c-35ae58034557",
   "metadata": {},
   "outputs": [
    {
     "data": {
      "text/plain": [
       "(np.float64(0.02051159105706963), np.float64(0.8862366542563404))"
      ]
     },
     "execution_count": 48,
     "metadata": {},
     "output_type": "execute_result"
    }
   ],
   "source": [
    "from scipy import stats\n",
    "\n",
    "t,p = stats.levene(smoker_yes['tip'], smoker_no['tip'])\n",
    "t, p"
   ]
  },
  {
   "cell_type": "code",
   "execution_count": 49,
   "id": "22bd46ef-7328-4aaa-9406-b58f8a26217f",
   "metadata": {},
   "outputs": [],
   "source": [
    "# 0.88이니까 귀무가설 채택 -> 두 집단 분산 같다. -> t-test 할 때  =True로 잡고 하면됨"
   ]
  },
  {
   "cell_type": "code",
   "execution_count": 50,
   "id": "c823a717-b9d2-462d-b2b9-ab839eea8443",
   "metadata": {},
   "outputs": [
    {
     "data": {
      "image/png": "[encoded data removed]",
      "text/plain": [
       "<Figure size 640x480 with 1 Axes>"
      ]
     },
     "metadata": {},
     "output_type": "display_data"
    }
   ],
   "source": [
    "fig, ax = plt.subplots(1, 1)\n",
    "sns.pointplot(x = 'smoker', y = 'tip', data = tips)\n",
    "sns.despine()\n",
    "# 이게 분산이래.. 가운데 점이 평균, 막대가 분산 , yes가 no보다 분산 넓어보임"
   ]
  },
  {
   "cell_type": "markdown",
   "id": "3c5f0a47-dc6f-40ac-87ff-92dc56c13b5d",
   "metadata": {},
   "source": [
    "## t-test"
   ]
  },
  {
   "cell_type": "code",
   "execution_count": 51,
   "id": "3a571e48-346f-4cd1-aac3-f5c5227be1c5",
   "metadata": {},
   "outputs": [
    {
     "data": {
      "text/plain": [
       "(np.float64(0.09222805186888201), np.float64(0.9265931522244976))"
      ]
     },
     "execution_count": 51,
     "metadata": {},
     "output_type": "execute_result"
    }
   ],
   "source": [
    "t,p = stats.ttest_ind(smoker_yes['tip'], smoker_no['tip'], equal_var=True)\n",
    "t, p"
   ]
  },
  {
   "cell_type": "code",
   "execution_count": 52,
   "id": "05db1a7d-4c9a-407d-8ef5-39d2b2fffbe5",
   "metadata": {},
   "outputs": [],
   "source": [
    "# p= np.float64(0.9265931522244976)) -> t-test 결과 : 두 그룹 평균 같댜ㅏ. -> 담배를 피던지 안피던지 팁주는 평균 비슷하다"
   ]
  },
  {
   "cell_type": "markdown",
   "id": "d902dc85-8057-40f7-8ec9-4c97c02368cb",
   "metadata": {},
   "source": [
    "## 두 그룹 boxplot 시각화"
   ]
  },
  {
   "cell_type": "code",
   "execution_count": 53,
   "id": "5ce69b07-b0f5-493c-ba15-f4d1a2973e0c",
   "metadata": {},
   "outputs": [
    {
     "data": {
      "image/png": "[encoded data removed]",
      "text/plain": [
       "<Figure size 1500x500 with 2 Axes>"
      ]
     },
     "metadata": {},
     "output_type": "display_data"
    }
   ],
   "source": [
    "import matplotlib.pyplot as plt\n",
    "import seaborn as sns\n",
    "\n",
    "# 데이터 분리\n",
    "smoker_yes=tips.loc[tips['smoker']=='Yes',:]\n",
    "smoker_no=tips.loc[tips['smoker']=='No',:]\n",
    "\n",
    "\n",
    "fig, ax = plt.subplots(nrows = 1, ncols = 2, figsize=(15,5))\n",
    "\n",
    "sns.boxplot(smoker_yes['tip'], ax=ax[0])\n",
    "sns.boxplot(smoker_no['tip'], ax=ax[1])\n",
    "\n",
    "\n",
    "plt.show()"
   ]
  },
  {
   "cell_type": "code",
   "execution_count": null,
   "id": "866af077-0517-4a91-bc57-8644882eb053",
   "metadata": {},
   "outputs": [],
   "source": []
  },
  {
   "cell_type": "code",
   "execution_count": null,
   "id": "147a1340-351b-45db-aade-0c1a57522a98",
   "metadata": {},
   "outputs": [],
   "source": []
  },
  {
   "cell_type": "code",
   "execution_count": null,
   "id": "b2978a49-10cf-4cf0-bc70-6abe310d481c",
   "metadata": {},
   "outputs": [],
   "source": []
  },
  {
   "cell_type": "code",
   "execution_count": null,
   "id": "3138f7a8-15a2-4881-a5ba-35abc20dc39f",
   "metadata": {},
   "outputs": [],
   "source": []
  }
 ],
 "metadata": {
  "kernelspec": {
   "display_name": "Python 3 (ipykernel)",
   "language": "python",
   "name": "python3"
  },
  "language_info": {
   "codemirror_mode": {
    "name": "ipython",
    "version": 3
   },
   "file_extension": ".py",
   "mimetype": "text/x-python",
   "name": "python",
   "nbconvert_exporter": "python",
   "pygments_lexer": "ipython3",
   "version": "3.12.6"
  }
 },
 "nbformat": 4,
 "nbformat_minor": 5
}
